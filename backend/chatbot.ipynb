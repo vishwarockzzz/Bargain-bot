{
 "cells": [
  {
   "cell_type": "code",
   "execution_count": 26,
   "metadata": {},
   "outputs": [],
   "source": [
    "import os\n",
    "from dotenv import load_dotenv\n",
    "\n",
    "# Load environment variables from the .env file\n",
    "load_dotenv()\n",
    "\n",
    "# Access the environment variable\n",
    "groq_api_key = os.getenv(\"GROQ_API_KEY\")"
   ]
  },
  {
   "cell_type": "code",
   "execution_count": 27,
   "metadata": {},
   "outputs": [],
   "source": [
    "from typing import Annotated\n",
    "\n",
    "from typing_extensions import TypedDict\n",
    "\n",
    "from langgraph.graph import StateGraph, START, END\n",
    "from langgraph.graph.message import add_messages\n",
    "\n",
    "\n",
    "class State(TypedDict):\n",
    "    # Messages have the type \"list\". The `add_messages` function\n",
    "    # in the annotation defines how this state key should be updated\n",
    "    # (in this case, it appends messages to the list, rather than overwriting them)\n",
    "    messages: Annotated[list, add_messages]\n",
    "\n",
    "\n",
    "graph_builder = StateGraph(State)"
   ]
  },
  {
   "cell_type": "code",
   "execution_count": 28,
   "metadata": {},
   "outputs": [
    {
     "data": {
      "text/plain": [
       "<langgraph.graph.state.StateGraph at 0x7b571a538c20>"
      ]
     },
     "execution_count": 28,
     "metadata": {},
     "output_type": "execute_result"
    }
   ],
   "source": [
    "from langchain_groq import ChatGroq\n",
    "\n",
    "llm = ChatGroq(model=\"llama-3.1-70b-versatile\")\n",
    "\n",
    "\n",
    "def chatbot(state: State):\n",
    "    return {\"messages\": [llm.invoke(state[\"messages\"])]}\n",
    "\n",
    "\n",
    "# The first argument is the unique node name\n",
    "# The second argument is the function or object that will be called whenever\n",
    "# the node is used.\n",
    "graph_builder.add_node(\"chatbot\", chatbot)"
   ]
  },
  {
   "cell_type": "code",
   "execution_count": 29,
   "metadata": {},
   "outputs": [],
   "source": [
    "graph_builder.add_edge(START, \"chatbot\")\n",
    "graph_builder.add_edge(\"chatbot\", END)\n",
    "graph = graph_builder.compile()"
   ]
  },
  {
   "cell_type": "code",
   "execution_count": 30,
   "metadata": {},
   "outputs": [
    {
     "data": {
      "image/jpeg": "[encoded data removed]",
      "text/plain": [
       "<IPython.core.display.Image object>"
      ]
     },
     "metadata": {},
     "output_type": "display_data"
    }
   ],
   "source": [
    "from IPython.display import Image, display\n",
    "\n",
    "try:\n",
    "    display(Image(graph.get_graph().draw_mermaid_png()))\n",
    "except Exception:\n",
    "    # This requires some extra dependencies and is optional\n",
    "    pass"
   ]
  },
  {
   "cell_type": "code",
   "execution_count": 31,
   "metadata": {},
   "outputs": [
    {
     "name": "stdout",
     "output_type": "stream",
     "text": [
      "Assistant: Hello Aravinthan, nice to meet you. Is there anything I can help you with or would you like to chat?\n",
      "Assistant: I don't have any information about your name. Our conversation just started, and I don't have any prior knowledge about you. If you'd like to share your name, I'd be happy to chat with you.\n",
      "Goodbye!\n"
     ]
    }
   ],
   "source": [
    "def stream_graph_updates(user_input: str):\n",
    "    for event in graph.stream({\"messages\": [(\"user\", user_input)]}):\n",
    "        for value in event.values():\n",
    "            print(\"Assistant:\", value[\"messages\"][-1].content)\n",
    "\n",
    "\n",
    "while True: \n",
    "    try:\n",
    "        user_input = input(\"User: \")\n",
    "        if user_input.lower() in [\"quit\", \"exit\", \"q\"]:\n",
    "            print(\"Goodbye!\")\n",
    "            break\n",
    "\n",
    "        stream_graph_updates(user_input)\n",
    "    except:\n",
    "        # fallback if input() is not available\n",
    "        user_input = \"What do you know about LangGraph?\"\n",
    "        print(\"User: \" + user_input)\n",
    "        stream_graph_updates(user_input)\n",
    "        break"
   ]
  },
  {
   "cell_type": "code",
   "execution_count": 7,
   "metadata": {},
   "outputs": [
    {
     "data": {
      "text/plain": [
       "'Apple iPhone 16 starts at ₹79,900 (128GB) and the 16 Plus starts at ₹89,900 (128GB). Both iPhone 16 Pro and 16 Pro Max are ₹15,000 less than the previous models starting at the price of ₹1 ... But in the US market, the iPhones are cheaper compared to other countries and the price of iPhone 16 starts at Rs 67,096 (before taxes), cost of iPhone 16 Plus is Rs 75,494 ($899). The 16 Pro Max ... Apple has announced the iPhone 16, iPhone 16 Plus, iPhone 16 Pro, and iPhone 16 Pro Max prices in India during its latest launch event. The new iPhone 16 series comes with support for the Apple Intelligence features introduced at WWDC 2024. Read on to learn more about the iPhone 16 series pricing and availability details. The iPhone 16 Pro models have received a price cut of almost Rs. 15,000. iPhone 16 Pro now starts at Rs. 1,19,900 for the 128GB model and iPhone 16 Pro Max 256GB variant costs Rs. 1,44,900. In the US, the iPhone 16 starts at $799 (roughly Rs. 67,000), while the iPhone 16 Plus costs $899 (roughly Rs. 75,000). The top-end iPhone 16 Pro Max is ... iPhone 16 series Indian pricing. So Apple has unveiled two base variants, just like last year: the iPhone 16 and the iPhone 16 Plus. The vanilla iPhone 16 will start at Rs 79,900 in India. The ...'"
      ]
     },
     "execution_count": 7,
     "metadata": {},
     "output_type": "execute_result"
    }
   ],
   "source": [
    "from langchain_community.tools import DuckDuckGoSearchRun\n",
    "\n",
    "search = DuckDuckGoSearchRun()\n",
    "\n",
    "search.invoke(\"Price of Iphone 16 in INR\")"
   ]
  },
  {
   "cell_type": "code",
   "execution_count": 8,
   "metadata": {},
   "outputs": [
    {
     "data": {
      "text/plain": [
       "'Apple will offer all four iPhones with 128 GB, 256 GB, 512 GB storage. The second option is $100/£100/€130 more expensive than the base option, while the third is $200/£200 more. The iPhone 16 ... Apple has announced the iPhone 16, iPhone 16 Plus, iPhone 16 Pro, and iPhone 16 Pro Max prices in India during its latest launch event. The new iPhone 16 series comes with support for the Apple Intelligence features introduced at WWDC 2024. Read on to learn more about the iPhone 16 series pricing and availability details. But in the US market, the iPhones are cheaper compared to other countries and the price of iPhone 16 starts at Rs 67,096 (before taxes), cost of iPhone 16 Plus is Rs 75,494 ($899). The 16 Pro Max ... Apple iPhone 16 starts at ₹79,900 (128GB) and the 16 Plus starts at ₹89,900 (128GB). Both iPhone 16 Pro and 16 Pro Max are ₹15,000 less than the previous models starting at the price of ₹1 ... iPhone 16 price comparison: iPhone 16 and iPhone 16 Plus start at the same price as last year, ... 999 usd to inr. us dollar rate. 5099 aed to inr. 999$ in rupees. $799 in indian rupees.'"
      ]
     },
     "execution_count": 8,
     "metadata": {},
     "output_type": "execute_result"
    }
   ],
   "source": [
    "'Apple will offer all four iPhones with 128 GB, 256 GB, 512 GB storage. The second option is $100/£100/€130 more expensive than the base option, while the third is $200/£200 more. The iPhone 16 ... Apple has announced the iPhone 16, iPhone 16 Plus, iPhone 16 Pro, and iPhone 16 Pro Max prices in India during its latest launch event. The new iPhone 16 series comes with support for the Apple Intelligence features introduced at WWDC 2024. Read on to learn more about the iPhone 16 series pricing and availability details. But in the US market, the iPhones are cheaper compared to other countries and the price of iPhone 16 starts at Rs 67,096 (before taxes), cost of iPhone 16 Plus is Rs 75,494 ($899). The 16 Pro Max ... Apple iPhone 16 starts at ₹79,900 (128GB) and the 16 Plus starts at ₹89,900 (128GB). Both iPhone 16 Pro and 16 Pro Max are ₹15,000 less than the previous models starting at the price of ₹1 ... iPhone 16 price comparison: iPhone 16 and iPhone 16 Plus start at the same price as last year, ... 999 usd to inr. us dollar rate. 5099 aed to inr. 999$ in rupees. $799 in indian rupees.'\n"
   ]
  },
  {
   "cell_type": "code",
   "execution_count": 9,
   "metadata": {},
   "outputs": [],
   "source": [
    "from langchain_community.tools import DuckDuckGoSearchResults\n",
    "\n",
    "search = DuckDuckGoSearchResults()\n",
    "\n",
    "results = search.invoke(\"Price of Iphone 16 in INR\")"
   ]
  },
  {
   "cell_type": "code",
   "execution_count": 10,
   "metadata": {},
   "outputs": [
    {
     "name": "stdout",
     "output_type": "stream",
     "text": [
      "snippet: Apple iPhone 16 starts at ₹79,900 (128GB) and the 16 Plus starts at ₹89,900 (128GB). Both iPhone 16 Pro and 16 Pro Max are ₹15,000 less than the previous models starting at the price of ₹1 ..., title: iPhone 16 Series Pricing in India Revealed - TechPP, link: https://techpp.com/2024/09/10/iphone-16-price-in-india/, snippet: Apple has announced the iPhone 16, iPhone 16 Plus, iPhone 16 Pro, and iPhone 16 Pro Max prices in India during its latest launch event. The new iPhone 16 series comes with support for the Apple Intelligence features introduced at WWDC 2024. Read on to learn more about the iPhone 16 series pricing and availability details., title: iPhone 16, iPhone 16 Plus, iPhone 16 Pro, iPhone 16 Pro Max Prices in ..., link: https://www.gadgets360.com/mobiles/news/iphone-16-pro-max-plus-price-india-sale-date-specifications-features-6526758, snippet: But in the US market, the iPhones are cheaper compared to other countries and the price of iPhone 16 starts at Rs 67,096 (before taxes), cost of iPhone 16 Plus is Rs 75,494 ($899)., title: Apple iPhone 16 Series: Pricing in India, US, Canada, China, Vietnam ..., link: https://www.deccanchronicle.com/technology/apple-iphone-16-series-pricing-in-india-us-canada-china-vietnam-compared-1823072, snippet: The iPhone 16 Pro models have received a price cut of almost Rs. 15,000. iPhone 16 Pro now starts at Rs. 1,19,900 for the 128GB model and iPhone 16 Pro Max 256GB variant costs Rs. 1,44,900. In the US, the iPhone 16 starts at $799 (roughly Rs. 67,000), while the iPhone 16 Plus costs $899 (roughly Rs. 75,000). The top-end iPhone 16 Pro Max is ..., title: iPhone 16 Series Price in India, Japan, US and Other Regions: Pre-Order ..., link: https://www.gadgets360.com/mobiles/news/iphone-16-pro-max-price-in-india-japan-us-uae-uk-pre-order-sale-date-6530224\n"
     ]
    }
   ],
   "source": [
    "print(results)"
   ]
  },
  {
   "cell_type": "code",
   "execution_count": 11,
   "metadata": {},
   "outputs": [
    {
     "data": {
      "text/plain": [
       "\"\\nsnippet: \\n\\nApple iPhone 16 Price in the US. The iPhone 16 is significantly cheaper in the US. Here's the breakdown: iPhone 16 (128GB): $799 (Rs 67,096) iPhone 16 Plus (128GB): $899 (Rs 75,493) As you can see, purchasing the iPhone 16 series in the US can save you nearly Rs 10,000 compared to India. This also applies to the higher storage options., title: iPhone 16 Series price in India vs USA, Dubai, Canada, Japan, France ..., \\nlink: https://www.indiatimes.com/technology/gadgets/iphone-16-series-16-plus-16-pro-16-pro-max-price-in-india-vs-usa-dubai-canada-japan-france-vietnam-and-global-markets-641870.html, \\n\\n\\nsnippet: \\n\\nApple iPhone 16 starts at ₹79,900 (128GB) and the 16 Plus starts at ₹89,900 (128GB). Both iPhone 16 Pro and 16 Pro Max are ₹15,000 less than the previous models starting at the price of ₹1 ..., title: iPhone 16 Series Pricing in India Revealed - TechPP, l\\nink: https://techpp.com/2024/09/10/iphone-16-price-in-india/, \\n\\nsnippet: \\n\\nApple has announced the iPhone 16, iPhone 16 Plus, iPhone 16 Pro, and iPhone 16 Pro Max prices in India during its latest launch event. The new iPhone 16 series comes with support for the Apple Intelligence features introduced at WWDC 2024. Read on to learn more about the iPhone 16 series pricing and availability details., title: iPhone 16, iPhone 16 Plus, iPhone 16 Pro, iPhone 16 Pro Max Prices in ..., link: https://www.gadgets360.com/mobiles/news/iphone-16-pro-max-plus-price-india-sale-date-specifications-features-6526758, \\n\\n\\nsnippet: But in the US market, the iPhones are cheaper compared to other countries and the price of iPhone 16 starts at Rs 67,096 (before taxes), cost of iPhone 16 Plus is Rs 75,494 ($899)., \\n\\ntitle: Apple iPhone 16 Series: Pricing in India, US, Canada, China, Vietnam ..., \\nlink: https://www.deccanchronicle.com/technology/apple-iphone-16-series-pricing-in-india-us-canada-china-vietnam-compared-1823072\\n\""
      ]
     },
     "execution_count": 11,
     "metadata": {},
     "output_type": "execute_result"
    }
   ],
   "source": [
    "\"\"\"\n",
    "snippet: \n",
    "\n",
    "Apple iPhone 16 Price in the US. The iPhone 16 is significantly cheaper in the US. Here's the breakdown: iPhone 16 (128GB): $799 (Rs 67,096) iPhone 16 Plus (128GB): $899 (Rs 75,493) As you can see, purchasing the iPhone 16 series in the US can save you nearly Rs 10,000 compared to India. This also applies to the higher storage options., title: iPhone 16 Series price in India vs USA, Dubai, Canada, Japan, France ..., \n",
    "link: https://www.indiatimes.com/technology/gadgets/iphone-16-series-16-plus-16-pro-16-pro-max-price-in-india-vs-usa-dubai-canada-japan-france-vietnam-and-global-markets-641870.html, \n",
    "\n",
    "\n",
    "snippet: \n",
    "\n",
    "Apple iPhone 16 starts at ₹79,900 (128GB) and the 16 Plus starts at ₹89,900 (128GB). Both iPhone 16 Pro and 16 Pro Max are ₹15,000 less than the previous models starting at the price of ₹1 ..., title: iPhone 16 Series Pricing in India Revealed - TechPP, l\n",
    "ink: https://techpp.com/2024/09/10/iphone-16-price-in-india/, \n",
    "\n",
    "snippet: \n",
    "\n",
    "Apple has announced the iPhone 16, iPhone 16 Plus, iPhone 16 Pro, and iPhone 16 Pro Max prices in India during its latest launch event. The new iPhone 16 series comes with support for the Apple Intelligence features introduced at WWDC 2024. Read on to learn more about the iPhone 16 series pricing and availability details., title: iPhone 16, iPhone 16 Plus, iPhone 16 Pro, iPhone 16 Pro Max Prices in ..., link: https://www.gadgets360.com/mobiles/news/iphone-16-pro-max-plus-price-india-sale-date-specifications-features-6526758, \n",
    "\n",
    "\n",
    "snippet: But in the US market, the iPhones are cheaper compared to other countries and the price of iPhone 16 starts at Rs 67,096 (before taxes), cost of iPhone 16 Plus is Rs 75,494 ($899)., \n",
    "\n",
    "title: Apple iPhone 16 Series: Pricing in India, US, Canada, China, Vietnam ..., \n",
    "link: https://www.deccanchronicle.com/technology/apple-iphone-16-series-pricing-in-india-us-canada-china-vietnam-compared-1823072\n",
    "\"\"\""
   ]
  },
  {
   "cell_type": "code",
   "execution_count": 12,
   "metadata": {},
   "outputs": [],
   "source": [
    "from typing import Annotated\n",
    "\n",
    "from langchain_groq import ChatGroq\n",
    "from langchain.tools import DuckDuckGoSearchResults\n",
    "from langchain_core.messages import BaseMessage\n",
    "from typing_extensions import TypedDict\n",
    "\n",
    "from langgraph.graph import StateGraph\n",
    "from langgraph.graph.message import add_messages\n",
    "from langgraph.prebuilt import ToolNode, tools_condition\n",
    "\n",
    "\n",
    "class State(TypedDict):\n",
    "    messages: Annotated[list, add_messages]\n",
    "\n",
    "\n",
    "graph_builder = StateGraph(State)\n",
    "\n",
    "# Use DuckDuckGo Search Results instead of TavilySearchResults\n",
    "tool = DuckDuckGoSearchResults(max_results=10)\n",
    "tools = [tool]\n",
    "llm = ChatGroq(model=\"llama-3.1-70b-versatile\")\n",
    "llm_with_tools = llm.bind_tools(tools)\n",
    "\n",
    "\n",
    "def chatbot(state: State):\n",
    "    return {\"messages\": [llm_with_tools.invoke(state[\"messages\"])]}\n",
    "\n",
    "\n",
    "graph_builder.add_node(\"chatbot\", chatbot)\n",
    "\n",
    "tool_node = ToolNode(tools=[tool])\n",
    "graph_builder.add_node(\"tools\", tool_node)\n",
    "\n",
    "graph_builder.add_conditional_edges(\n",
    "    \"chatbot\",\n",
    "    tools_condition,\n",
    ")\n",
    "# Any time a tool is called, we return to the chatbot to decide the next step\n",
    "graph_builder.add_edge(\"tools\", \"chatbot\")\n",
    "graph_builder.set_entry_point(\"chatbot\")\n",
    "graph = graph_builder.compile()"
   ]
  },
  {
   "cell_type": "code",
   "execution_count": 13,
   "metadata": {},
   "outputs": [
    {
     "data": {
      "image/jpeg": "[encoded data removed]",
      "text/plain": [
       "<IPython.core.display.Image object>"
      ]
     },
     "metadata": {},
     "output_type": "display_data"
    }
   ],
   "source": [
    "from IPython.display import Image, display\n",
    "\n",
    "try:\n",
    "    display(Image(graph.get_graph().draw_mermaid_png()))\n",
    "except Exception:\n",
    "    # This requires some extra dependencies and is optional\n",
    "    pass"
   ]
  },
  {
   "cell_type": "code",
   "execution_count": 14,
   "metadata": {},
   "outputs": [],
   "source": [
    "def stream_graph_updates(user_input: str):\n",
    "    for event in graph.stream({\"messages\": [(\"user\", user_input)]}):\n",
    "        for value in event.values():\n",
    "            print(\"Assistant:\", value[\"messages\"][-1].content)"
   ]
  },
  {
   "cell_type": "code",
   "execution_count": 15,
   "metadata": {},
   "outputs": [
    {
     "name": "stdout",
     "output_type": "stream",
     "text": [
      "Goodbye!\n"
     ]
    }
   ],
   "source": [
    "while True:\n",
    "    try:\n",
    "        user_input = input(\"User: \")\n",
    "        if user_input.lower() in [\"quit\", \"exit\", \"q\"]:\n",
    "            print(\"Goodbye!\")\n",
    "            break\n",
    "\n",
    "        stream_graph_updates(user_input)\n",
    "    except:\n",
    "        # fallback if input() is not available\n",
    "        user_input = \"What do you know about LangGraph?\"\n",
    "        print(\"User: \" + user_input)\n",
    "        stream_graph_updates(user_input)\n",
    "        break"
   ]
  },
  {
   "cell_type": "code",
   "execution_count": 16,
   "metadata": {},
   "outputs": [
    {
     "name": "stderr",
     "output_type": "stream",
     "text": [
      "Python REPL can execute arbitrary code. Use with caution.\n"
     ]
    },
    {
     "data": {
      "text/plain": [
       "'9\\n'"
      ]
     },
     "execution_count": 16,
     "metadata": {},
     "output_type": "execute_result"
    }
   ],
   "source": [
    "from langchain_core.tools import Tool\n",
    "from langchain_experimental.utilities import PythonREPL\n",
    "\n",
    "python_repl = PythonREPL()\n",
    "\n",
    "python_repl.run(\"\"\"\n",
    "square = lambda x: x ** 2\n",
    "print(square(3))\n",
    "\"\"\")\n"
   ]
  },
  {
   "cell_type": "code",
   "execution_count": 3,
   "metadata": {},
   "outputs": [
    {
     "name": "stdout",
     "output_type": "stream",
     "text": [
      "Assistant: \n",
      "Assistant: snippet: Pricing and Availability. iPhone 16 and iPhone 16 Plus will be available in ultramarine, teal, pink, white, and black in 128GB, 256GB, and 512GB storage capacities. iPhone 16 starts at $799 (U.S.) or $33.29 (U.S.) per month, and iPhone 16 Plus starts at $899 (U.S.) or $37.45 (U.S.) per month. Apple offers great ways to save and upgrade to the ..., title: Apple introduces iPhone 16 and iPhone 16 Plus - Apple, link: https://www.apple.com/newsroom/2024/09/apple-introduces-iphone-16-and-iphone-16-plus/, snippet: CUPERTINO, CALIFORNIA Apple today introduced iPhone 16 Pro and iPhone 16 Pro Max, featuring Apple Intelligence, larger display sizes, new creative capabilities with innovative pro camera features, stunning graphics for immersive gaming, and more — all powered by the A18 Pro chip.With Apple Intelligence, powerful Apple-built generative models come to iPhone in the easy-to-use personal ..., title: Apple debuts iPhone 16 Pro and iPhone 16 Pro Max - Apple, link: https://www.apple.com/newsroom/2024/09/apple-debuts-iphone-16-pro-and-iphone-16-pro-max/, snippet: iPhone 16 and iPhone 16 Plus specs; Row 0 - Cell 0 : iPhone 16: iPhone 16 Plus: Starting price: $799/£799/AU$1,399: $899/£899/AU$1,599: Screen size: 6.1 inches, title: iPhone 16 vs 16 Plus vs 16 Pro vs 16 Pro Max: Which iPhone is right for ..., link: https://www.tomsguide.com/phones/iphones/iphone-16-vs-16-plus-vs-16-pro-vs-16-pro-max, snippet: MacRumors provides a breakdown of the prices of the four iPhone 16 models, starting from $799 and £799 for the base 128GB version. The web page also features related stories about iOS 18, iPhone 17, and Apple Intelligence., title: How Much Does Each iPhone 16 Model Cost? - MacRumors, link: https://www.macrumors.com/2024/09/13/how-much-does-iphone-16-cost/\n",
      "Assistant: The price of iPhone 16 starts at $799 (U.S.) or $33.29 (U.S.) per month, and iPhone 16 Plus starts at $899 (U.S.) or $37.45 (U.S.) per month.\n",
      "Goodbye!\n"
     ]
    }
   ],
   "source": [
    "from typing import Annotated\n",
    "from langchain_groq import ChatGroq\n",
    "from langchain.tools import DuckDuckGoSearchResults\n",
    "from langchain_core.messages import BaseMessage\n",
    "from typing_extensions import TypedDict\n",
    "\n",
    "from langgraph.graph import StateGraph\n",
    "from langgraph.graph.message import add_messages\n",
    "from langgraph.prebuilt import ToolNode, tools_condition\n",
    "from langgraph.checkpoint.sqlite import SqliteSaver\n",
    "\n",
    "\n",
    "class State(TypedDict):\n",
    "    messages: Annotated[list, add_messages]\n",
    "\n",
    "\n",
    "# Build the graph\n",
    "graph_builder = StateGraph(State)\n",
    "\n",
    "# Use DuckDuckGo Search Results instead of TavilySearchResults\n",
    "tool = DuckDuckGoSearchResults(max_results=10)\n",
    "tools = [tool]\n",
    "llm = ChatGroq(model=\"llama-3.1-70b-versatile\")\n",
    "llm_with_tools = llm.bind_tools(tools)\n",
    "\n",
    "\n",
    "def chatbot(state: State):\n",
    "    return {\"messages\": [llm_with_tools.invoke(state[\"messages\"])]}\n",
    "\n",
    "\n",
    "graph_builder.add_node(\"chatbot\", chatbot)\n",
    "\n",
    "tool_node = ToolNode(tools=[tool])\n",
    "graph_builder.add_node(\"tools\", tool_node)\n",
    "\n",
    "graph_builder.add_conditional_edges(\n",
    "    \"chatbot\",\n",
    "    tools_condition,\n",
    ")\n",
    "# Any time a tool is called, we return to the chatbot to decide the next step\n",
    "graph_builder.add_edge(\"tools\", \"chatbot\")\n",
    "graph_builder.set_entry_point(\"chatbot\")\n",
    "\n",
    "# Use SqliteSaver with a context manager\n",
    "with SqliteSaver.from_conn_string(\"../logs/chat_history.db\") as memory:\n",
    "    # Compile the graph with SQLite memory saver\n",
    "    graph = graph_builder.compile(checkpointer=memory)\n",
    "\n",
    "    # Function to stream graph updates\n",
    "    def stream_graph_updates(user_input: str, thread_id=\"default\"):\n",
    "        config = {\"configurable\": {\"thread_id\": thread_id}}\n",
    "        for event in graph.stream({\"messages\": [(\"user\", user_input)]}, config=config):\n",
    "            for value in event.values():\n",
    "                print(\"Assistant:\", value[\"messages\"][-1].content)\n",
    "\n",
    "    # Chat loop to interact with the bot\n",
    "    while True:\n",
    "        try:\n",
    "            user_input = input(\"User: \")\n",
    "            if user_input.lower() in [\"quit\", \"exit\", \"q\"]:\n",
    "                print(\"Goodbye!\")\n",
    "                break\n",
    "\n",
    "            stream_graph_updates(user_input)\n",
    "        except:\n",
    "            # Fallback if input() is not available\n",
    "            user_input = \"What do you know about LangGraph?\"\n",
    "            print(\"User: \" + user_input)\n",
    "            stream_graph_updates(user_input)\n",
    "            break\n"
   ]
  },
  {
   "cell_type": "code",
   "execution_count": 2,
   "metadata": {},
   "outputs": [
    {
     "data": {
      "image/jpeg": "[encoded data removed]",
      "text/plain": [
       "<IPython.core.display.Image object>"
      ]
     },
     "metadata": {},
     "output_type": "display_data"
    },
    {
     "name": "stdout",
     "output_type": "stream",
     "text": [
      "Assistant: The decision is to use the tool: False\n",
      "User: What do you know about LangGraph?\n",
      "Assistant: The decision is to use the tool: True\n",
      "Assistant: No messages available\n"
     ]
    },
    {
     "ename": "NameError",
     "evalue": "name 'llm_with_tools' is not defined",
     "output_type": "error",
     "traceback": [
      "\u001b[0;31m---------------------------------------------------------------------------\u001b[0m",
      "\u001b[0;31mNameError\u001b[0m                                 Traceback (most recent call last)",
      "Cell \u001b[0;32mIn[2], line 111\u001b[0m\n\u001b[1;32m    109\u001b[0m         \u001b[38;5;28;01mbreak\u001b[39;00m\n\u001b[0;32m--> 111\u001b[0m     \u001b[43mstream_graph_updates\u001b[49m\u001b[43m(\u001b[49m\u001b[43muser_input\u001b[49m\u001b[43m)\u001b[49m\n\u001b[1;32m    112\u001b[0m \u001b[38;5;28;01mexcept\u001b[39;00m:\n\u001b[1;32m    113\u001b[0m     \u001b[38;5;66;03m# Fallback if input() is not available\u001b[39;00m\n",
      "Cell \u001b[0;32mIn[2], line 96\u001b[0m, in \u001b[0;36mstream_graph_updates\u001b[0;34m(user_input, thread_id)\u001b[0m\n\u001b[1;32m     95\u001b[0m config \u001b[38;5;241m=\u001b[39m {\u001b[38;5;124m\"\u001b[39m\u001b[38;5;124mconfigurable\u001b[39m\u001b[38;5;124m\"\u001b[39m: {\u001b[38;5;124m\"\u001b[39m\u001b[38;5;124mthread_id\u001b[39m\u001b[38;5;124m\"\u001b[39m: thread_id}}\n\u001b[0;32m---> 96\u001b[0m \u001b[43m\u001b[49m\u001b[38;5;28;43;01mfor\u001b[39;49;00m\u001b[43m \u001b[49m\u001b[43mevent\u001b[49m\u001b[43m \u001b[49m\u001b[38;5;129;43;01min\u001b[39;49;00m\u001b[43m \u001b[49m\u001b[43mgraph\u001b[49m\u001b[38;5;241;43m.\u001b[39;49m\u001b[43mstream\u001b[49m\u001b[43m(\u001b[49m\u001b[43m{\u001b[49m\u001b[38;5;124;43m\"\u001b[39;49m\u001b[38;5;124;43mmessages\u001b[39;49m\u001b[38;5;124;43m\"\u001b[39;49m\u001b[43m:\u001b[49m\u001b[43m \u001b[49m\u001b[43m[\u001b[49m\u001b[43mHumanMessage\u001b[49m\u001b[43m(\u001b[49m\u001b[43mcontent\u001b[49m\u001b[38;5;241;43m=\u001b[39;49m\u001b[43muser_input\u001b[49m\u001b[43m)\u001b[49m\u001b[43m]\u001b[49m\u001b[43m}\u001b[49m\u001b[43m,\u001b[49m\u001b[43m \u001b[49m\u001b[43mconfig\u001b[49m\u001b[38;5;241;43m=\u001b[39;49m\u001b[43mconfig\u001b[49m\u001b[43m)\u001b[49m\u001b[43m:\u001b[49m\n\u001b[1;32m     97\u001b[0m \u001b[43m    \u001b[49m\u001b[38;5;28;43;01mfor\u001b[39;49;00m\u001b[43m \u001b[49m\u001b[43mvalue\u001b[49m\u001b[43m \u001b[49m\u001b[38;5;129;43;01min\u001b[39;49;00m\u001b[43m \u001b[49m\u001b[43mevent\u001b[49m\u001b[38;5;241;43m.\u001b[39;49m\u001b[43mvalues\u001b[49m\u001b[43m(\u001b[49m\u001b[43m)\u001b[49m\u001b[43m:\u001b[49m\n",
      "File \u001b[0;32m~/Code+Notes/BargainBot/.BargainBot/lib/python3.12/site-packages/langgraph/pregel/__init__.py:1298\u001b[0m, in \u001b[0;36mPregel.stream\u001b[0;34m(self, input, config, stream_mode, output_keys, interrupt_before, interrupt_after, debug, subgraphs)\u001b[0m\n\u001b[1;32m   1292\u001b[0m \u001b[38;5;28;01mwhile\u001b[39;00m loop\u001b[38;5;241m.\u001b[39mtick(\n\u001b[1;32m   1293\u001b[0m     input_keys\u001b[38;5;241m=\u001b[39m\u001b[38;5;28mself\u001b[39m\u001b[38;5;241m.\u001b[39minput_channels,\n\u001b[1;32m   1294\u001b[0m     interrupt_before\u001b[38;5;241m=\u001b[39minterrupt_before_,\n\u001b[1;32m   1295\u001b[0m     interrupt_after\u001b[38;5;241m=\u001b[39minterrupt_after_,\n\u001b[1;32m   1296\u001b[0m     manager\u001b[38;5;241m=\u001b[39mrun_manager,\n\u001b[1;32m   1297\u001b[0m ):\n\u001b[0;32m-> 1298\u001b[0m \u001b[43m    \u001b[49m\u001b[38;5;28;43;01mfor\u001b[39;49;00m\u001b[43m \u001b[49m\u001b[43m_\u001b[49m\u001b[43m \u001b[49m\u001b[38;5;129;43;01min\u001b[39;49;00m\u001b[43m \u001b[49m\u001b[43mrunner\u001b[49m\u001b[38;5;241;43m.\u001b[39;49m\u001b[43mtick\u001b[49m\u001b[43m(\u001b[49m\n\u001b[1;32m   1299\u001b[0m \u001b[43m        \u001b[49m\u001b[43mloop\u001b[49m\u001b[38;5;241;43m.\u001b[39;49m\u001b[43mtasks\u001b[49m\u001b[38;5;241;43m.\u001b[39;49m\u001b[43mvalues\u001b[49m\u001b[43m(\u001b[49m\u001b[43m)\u001b[49m\u001b[43m,\u001b[49m\n\u001b[1;32m   1300\u001b[0m \u001b[43m        \u001b[49m\u001b[43mtimeout\u001b[49m\u001b[38;5;241;43m=\u001b[39;49m\u001b[38;5;28;43mself\u001b[39;49m\u001b[38;5;241;43m.\u001b[39;49m\u001b[43mstep_timeout\u001b[49m\u001b[43m,\u001b[49m\n\u001b[1;32m   1301\u001b[0m \u001b[43m        \u001b[49m\u001b[43mretry_policy\u001b[49m\u001b[38;5;241;43m=\u001b[39;49m\u001b[38;5;28;43mself\u001b[39;49m\u001b[38;5;241;43m.\u001b[39;49m\u001b[43mretry_policy\u001b[49m\u001b[43m,\u001b[49m\n\u001b[1;32m   1302\u001b[0m \u001b[43m        \u001b[49m\u001b[43mget_waiter\u001b[49m\u001b[38;5;241;43m=\u001b[39;49m\u001b[43mget_waiter\u001b[49m\u001b[43m,\u001b[49m\n\u001b[1;32m   1303\u001b[0m \u001b[43m    \u001b[49m\u001b[43m)\u001b[49m\u001b[43m:\u001b[49m\n\u001b[1;32m   1304\u001b[0m \u001b[43m        \u001b[49m\u001b[38;5;66;43;03m# emit output\u001b[39;49;00m\n\u001b[1;32m   1305\u001b[0m \u001b[43m        \u001b[49m\u001b[38;5;28;43;01myield from\u001b[39;49;00m\u001b[43m \u001b[49m\u001b[43moutput\u001b[49m\u001b[43m(\u001b[49m\u001b[43m)\u001b[49m\n",
      "File \u001b[0;32m~/Code+Notes/BargainBot/.BargainBot/lib/python3.12/site-packages/langgraph/pregel/runner.py:56\u001b[0m, in \u001b[0;36mPregelRunner.tick\u001b[0;34m(self, tasks, reraise, timeout, retry_policy, get_waiter)\u001b[0m\n\u001b[1;32m     55\u001b[0m \u001b[38;5;28;01mtry\u001b[39;00m:\n\u001b[0;32m---> 56\u001b[0m     \u001b[43mrun_with_retry\u001b[49m\u001b[43m(\u001b[49m\u001b[43mt\u001b[49m\u001b[43m,\u001b[49m\u001b[43m \u001b[49m\u001b[43mretry_policy\u001b[49m\u001b[43m)\u001b[49m\n\u001b[1;32m     57\u001b[0m     \u001b[38;5;28mself\u001b[39m\u001b[38;5;241m.\u001b[39mcommit(t, \u001b[38;5;28;01mNone\u001b[39;00m)\n",
      "File \u001b[0;32m~/Code+Notes/BargainBot/.BargainBot/lib/python3.12/site-packages/langgraph/pregel/retry.py:29\u001b[0m, in \u001b[0;36mrun_with_retry\u001b[0;34m(task, retry_policy)\u001b[0m\n\u001b[1;32m     28\u001b[0m \u001b[38;5;66;03m# run the task\u001b[39;00m\n\u001b[0;32m---> 29\u001b[0m \u001b[43mtask\u001b[49m\u001b[38;5;241;43m.\u001b[39;49m\u001b[43mproc\u001b[49m\u001b[38;5;241;43m.\u001b[39;49m\u001b[43minvoke\u001b[49m\u001b[43m(\u001b[49m\u001b[43mtask\u001b[49m\u001b[38;5;241;43m.\u001b[39;49m\u001b[43minput\u001b[49m\u001b[43m,\u001b[49m\u001b[43m \u001b[49m\u001b[43mconfig\u001b[49m\u001b[43m)\u001b[49m\n\u001b[1;32m     30\u001b[0m \u001b[38;5;66;03m# if successful, end\u001b[39;00m\n",
      "File \u001b[0;32m~/Code+Notes/BargainBot/.BargainBot/lib/python3.12/site-packages/langgraph/utils/runnable.py:405\u001b[0m, in \u001b[0;36mRunnableSeq.invoke\u001b[0;34m(self, input, config, **kwargs)\u001b[0m\n\u001b[1;32m    404\u001b[0m \u001b[38;5;28;01mif\u001b[39;00m i \u001b[38;5;241m==\u001b[39m \u001b[38;5;241m0\u001b[39m:\n\u001b[0;32m--> 405\u001b[0m     \u001b[38;5;28minput\u001b[39m \u001b[38;5;241m=\u001b[39m \u001b[43mcontext\u001b[49m\u001b[38;5;241;43m.\u001b[39;49m\u001b[43mrun\u001b[49m\u001b[43m(\u001b[49m\u001b[43mstep\u001b[49m\u001b[38;5;241;43m.\u001b[39;49m\u001b[43minvoke\u001b[49m\u001b[43m,\u001b[49m\u001b[43m \u001b[49m\u001b[38;5;28;43minput\u001b[39;49m\u001b[43m,\u001b[49m\u001b[43m \u001b[49m\u001b[43mconfig\u001b[49m\u001b[43m,\u001b[49m\u001b[43m \u001b[49m\u001b[38;5;241;43m*\u001b[39;49m\u001b[38;5;241;43m*\u001b[39;49m\u001b[43mkwargs\u001b[49m\u001b[43m)\u001b[49m\n\u001b[1;32m    406\u001b[0m \u001b[38;5;28;01melse\u001b[39;00m:\n",
      "File \u001b[0;32m~/Code+Notes/BargainBot/.BargainBot/lib/python3.12/site-packages/langgraph/utils/runnable.py:181\u001b[0m, in \u001b[0;36mRunnableCallable.invoke\u001b[0;34m(self, input, config, **kwargs)\u001b[0m\n\u001b[1;32m    180\u001b[0m     context\u001b[38;5;241m.\u001b[39mrun(_set_config_context, config)\n\u001b[0;32m--> 181\u001b[0m     ret \u001b[38;5;241m=\u001b[39m \u001b[43mcontext\u001b[49m\u001b[38;5;241;43m.\u001b[39;49m\u001b[43mrun\u001b[49m\u001b[43m(\u001b[49m\u001b[38;5;28;43mself\u001b[39;49m\u001b[38;5;241;43m.\u001b[39;49m\u001b[43mfunc\u001b[49m\u001b[43m,\u001b[49m\u001b[43m \u001b[49m\u001b[38;5;28;43minput\u001b[39;49m\u001b[43m,\u001b[49m\u001b[43m \u001b[49m\u001b[38;5;241;43m*\u001b[39;49m\u001b[38;5;241;43m*\u001b[39;49m\u001b[43mkwargs\u001b[49m\u001b[43m)\u001b[49m\n\u001b[1;32m    182\u001b[0m \u001b[38;5;28;01mif\u001b[39;00m \u001b[38;5;28misinstance\u001b[39m(ret, Runnable) \u001b[38;5;129;01mand\u001b[39;00m \u001b[38;5;28mself\u001b[39m\u001b[38;5;241m.\u001b[39mrecurse:\n",
      "Cell \u001b[0;32mIn[2], line 57\u001b[0m, in \u001b[0;36mchatbot\u001b[0;34m(state)\u001b[0m\n\u001b[1;32m     56\u001b[0m \u001b[38;5;28;01mdef\u001b[39;00m \u001b[38;5;21mchatbot\u001b[39m(state: State):\n\u001b[0;32m---> 57\u001b[0m     chatbot_response \u001b[38;5;241m=\u001b[39m \u001b[43mllm_with_tools\u001b[49m\u001b[38;5;241m.\u001b[39minvoke(state[\u001b[38;5;124m\"\u001b[39m\u001b[38;5;124mmessages\u001b[39m\u001b[38;5;124m\"\u001b[39m])\n\u001b[1;32m     58\u001b[0m     \u001b[38;5;28;01mif\u001b[39;00m chatbot_response:  \u001b[38;5;66;03m# Ensure there is a response\u001b[39;00m\n",
      "\u001b[0;31mNameError\u001b[0m: name 'llm_with_tools' is not defined",
      "\nDuring handling of the above exception, another exception occurred:\n",
      "\u001b[0;31mNameError\u001b[0m                                 Traceback (most recent call last)",
      "Cell \u001b[0;32mIn[2], line 116\u001b[0m\n\u001b[1;32m    114\u001b[0m user_input \u001b[38;5;241m=\u001b[39m \u001b[38;5;124m\"\u001b[39m\u001b[38;5;124mWhat do you know about LangGraph?\u001b[39m\u001b[38;5;124m\"\u001b[39m\n\u001b[1;32m    115\u001b[0m \u001b[38;5;28mprint\u001b[39m(\u001b[38;5;124m\"\u001b[39m\u001b[38;5;124mUser: \u001b[39m\u001b[38;5;124m\"\u001b[39m \u001b[38;5;241m+\u001b[39m user_input)\n\u001b[0;32m--> 116\u001b[0m \u001b[43mstream_graph_updates\u001b[49m\u001b[43m(\u001b[49m\u001b[43muser_input\u001b[49m\u001b[43m)\u001b[49m\n\u001b[1;32m    117\u001b[0m \u001b[38;5;28;01mbreak\u001b[39;00m\n",
      "Cell \u001b[0;32mIn[2], line 96\u001b[0m, in \u001b[0;36mstream_graph_updates\u001b[0;34m(user_input, thread_id)\u001b[0m\n\u001b[1;32m     94\u001b[0m \u001b[38;5;28;01mdef\u001b[39;00m \u001b[38;5;21mstream_graph_updates\u001b[39m(user_input: \u001b[38;5;28mstr\u001b[39m, thread_id\u001b[38;5;241m=\u001b[39m\u001b[38;5;124m\"\u001b[39m\u001b[38;5;124mdefault\u001b[39m\u001b[38;5;124m\"\u001b[39m):\n\u001b[1;32m     95\u001b[0m     config \u001b[38;5;241m=\u001b[39m {\u001b[38;5;124m\"\u001b[39m\u001b[38;5;124mconfigurable\u001b[39m\u001b[38;5;124m\"\u001b[39m: {\u001b[38;5;124m\"\u001b[39m\u001b[38;5;124mthread_id\u001b[39m\u001b[38;5;124m\"\u001b[39m: thread_id}}\n\u001b[0;32m---> 96\u001b[0m \u001b[43m    \u001b[49m\u001b[38;5;28;43;01mfor\u001b[39;49;00m\u001b[43m \u001b[49m\u001b[43mevent\u001b[49m\u001b[43m \u001b[49m\u001b[38;5;129;43;01min\u001b[39;49;00m\u001b[43m \u001b[49m\u001b[43mgraph\u001b[49m\u001b[38;5;241;43m.\u001b[39;49m\u001b[43mstream\u001b[49m\u001b[43m(\u001b[49m\u001b[43m{\u001b[49m\u001b[38;5;124;43m\"\u001b[39;49m\u001b[38;5;124;43mmessages\u001b[39;49m\u001b[38;5;124;43m\"\u001b[39;49m\u001b[43m:\u001b[49m\u001b[43m \u001b[49m\u001b[43m[\u001b[49m\u001b[43mHumanMessage\u001b[49m\u001b[43m(\u001b[49m\u001b[43mcontent\u001b[49m\u001b[38;5;241;43m=\u001b[39;49m\u001b[43muser_input\u001b[49m\u001b[43m)\u001b[49m\u001b[43m]\u001b[49m\u001b[43m}\u001b[49m\u001b[43m,\u001b[49m\u001b[43m \u001b[49m\u001b[43mconfig\u001b[49m\u001b[38;5;241;43m=\u001b[39;49m\u001b[43mconfig\u001b[49m\u001b[43m)\u001b[49m\u001b[43m:\u001b[49m\n\u001b[1;32m     97\u001b[0m \u001b[43m        \u001b[49m\u001b[38;5;28;43;01mfor\u001b[39;49;00m\u001b[43m \u001b[49m\u001b[43mvalue\u001b[49m\u001b[43m \u001b[49m\u001b[38;5;129;43;01min\u001b[39;49;00m\u001b[43m \u001b[49m\u001b[43mevent\u001b[49m\u001b[38;5;241;43m.\u001b[39;49m\u001b[43mvalues\u001b[49m\u001b[43m(\u001b[49m\u001b[43m)\u001b[49m\u001b[43m:\u001b[49m\n\u001b[1;32m     98\u001b[0m \u001b[43m            \u001b[49m\u001b[38;5;28;43;01mif\u001b[39;49;00m\u001b[43m \u001b[49m\u001b[38;5;124;43m\"\u001b[39;49m\u001b[38;5;124;43mmessages\u001b[39;49m\u001b[38;5;124;43m\"\u001b[39;49m\u001b[43m \u001b[49m\u001b[38;5;129;43;01min\u001b[39;49;00m\u001b[43m \u001b[49m\u001b[43mvalue\u001b[49m\u001b[43m \u001b[49m\u001b[38;5;129;43;01mand\u001b[39;49;00m\u001b[43m \u001b[49m\u001b[38;5;28;43mlen\u001b[39;49m\u001b[43m(\u001b[49m\u001b[43mvalue\u001b[49m\u001b[43m[\u001b[49m\u001b[38;5;124;43m\"\u001b[39;49m\u001b[38;5;124;43mmessages\u001b[39;49m\u001b[38;5;124;43m\"\u001b[39;49m\u001b[43m]\u001b[49m\u001b[43m)\u001b[49m\u001b[43m \u001b[49m\u001b[38;5;241;43m>\u001b[39;49m\u001b[43m \u001b[49m\u001b[38;5;241;43m0\u001b[39;49m\u001b[43m:\u001b[49m\n",
      "File \u001b[0;32m~/Code+Notes/BargainBot/.BargainBot/lib/python3.12/site-packages/langgraph/pregel/__init__.py:1298\u001b[0m, in \u001b[0;36mPregel.stream\u001b[0;34m(self, input, config, stream_mode, output_keys, interrupt_before, interrupt_after, debug, subgraphs)\u001b[0m\n\u001b[1;32m   1287\u001b[0m     \u001b[38;5;66;03m# Similarly to Bulk Synchronous Parallel / Pregel model\u001b[39;00m\n\u001b[1;32m   1288\u001b[0m     \u001b[38;5;66;03m# computation proceeds in steps, while there are channel updates\u001b[39;00m\n\u001b[1;32m   1289\u001b[0m     \u001b[38;5;66;03m# channel updates from step N are only visible in step N+1\u001b[39;00m\n\u001b[1;32m   1290\u001b[0m     \u001b[38;5;66;03m# channels are guaranteed to be immutable for the duration of the step,\u001b[39;00m\n\u001b[1;32m   1291\u001b[0m     \u001b[38;5;66;03m# with channel updates applied only at the transition between steps\u001b[39;00m\n\u001b[1;32m   1292\u001b[0m     \u001b[38;5;28;01mwhile\u001b[39;00m loop\u001b[38;5;241m.\u001b[39mtick(\n\u001b[1;32m   1293\u001b[0m         input_keys\u001b[38;5;241m=\u001b[39m\u001b[38;5;28mself\u001b[39m\u001b[38;5;241m.\u001b[39minput_channels,\n\u001b[1;32m   1294\u001b[0m         interrupt_before\u001b[38;5;241m=\u001b[39minterrupt_before_,\n\u001b[1;32m   1295\u001b[0m         interrupt_after\u001b[38;5;241m=\u001b[39minterrupt_after_,\n\u001b[1;32m   1296\u001b[0m         manager\u001b[38;5;241m=\u001b[39mrun_manager,\n\u001b[1;32m   1297\u001b[0m     ):\n\u001b[0;32m-> 1298\u001b[0m \u001b[43m        \u001b[49m\u001b[38;5;28;43;01mfor\u001b[39;49;00m\u001b[43m \u001b[49m\u001b[43m_\u001b[49m\u001b[43m \u001b[49m\u001b[38;5;129;43;01min\u001b[39;49;00m\u001b[43m \u001b[49m\u001b[43mrunner\u001b[49m\u001b[38;5;241;43m.\u001b[39;49m\u001b[43mtick\u001b[49m\u001b[43m(\u001b[49m\n\u001b[1;32m   1299\u001b[0m \u001b[43m            \u001b[49m\u001b[43mloop\u001b[49m\u001b[38;5;241;43m.\u001b[39;49m\u001b[43mtasks\u001b[49m\u001b[38;5;241;43m.\u001b[39;49m\u001b[43mvalues\u001b[49m\u001b[43m(\u001b[49m\u001b[43m)\u001b[49m\u001b[43m,\u001b[49m\n\u001b[1;32m   1300\u001b[0m \u001b[43m            \u001b[49m\u001b[43mtimeout\u001b[49m\u001b[38;5;241;43m=\u001b[39;49m\u001b[38;5;28;43mself\u001b[39;49m\u001b[38;5;241;43m.\u001b[39;49m\u001b[43mstep_timeout\u001b[49m\u001b[43m,\u001b[49m\n\u001b[1;32m   1301\u001b[0m \u001b[43m            \u001b[49m\u001b[43mretry_policy\u001b[49m\u001b[38;5;241;43m=\u001b[39;49m\u001b[38;5;28;43mself\u001b[39;49m\u001b[38;5;241;43m.\u001b[39;49m\u001b[43mretry_policy\u001b[49m\u001b[43m,\u001b[49m\n\u001b[1;32m   1302\u001b[0m \u001b[43m            \u001b[49m\u001b[43mget_waiter\u001b[49m\u001b[38;5;241;43m=\u001b[39;49m\u001b[43mget_waiter\u001b[49m\u001b[43m,\u001b[49m\n\u001b[1;32m   1303\u001b[0m \u001b[43m        \u001b[49m\u001b[43m)\u001b[49m\u001b[43m:\u001b[49m\n\u001b[1;32m   1304\u001b[0m \u001b[43m            \u001b[49m\u001b[38;5;66;43;03m# emit output\u001b[39;49;00m\n\u001b[1;32m   1305\u001b[0m \u001b[43m            \u001b[49m\u001b[38;5;28;43;01myield from\u001b[39;49;00m\u001b[43m \u001b[49m\u001b[43moutput\u001b[49m\u001b[43m(\u001b[49m\u001b[43m)\u001b[49m\n\u001b[1;32m   1306\u001b[0m \u001b[38;5;66;03m# emit output\u001b[39;00m\n",
      "File \u001b[0;32m~/Code+Notes/BargainBot/.BargainBot/lib/python3.12/site-packages/langgraph/pregel/runner.py:56\u001b[0m, in \u001b[0;36mPregelRunner.tick\u001b[0;34m(self, tasks, reraise, timeout, retry_policy, get_waiter)\u001b[0m\n\u001b[1;32m     54\u001b[0m t \u001b[38;5;241m=\u001b[39m tasks[\u001b[38;5;241m0\u001b[39m]\n\u001b[1;32m     55\u001b[0m \u001b[38;5;28;01mtry\u001b[39;00m:\n\u001b[0;32m---> 56\u001b[0m     \u001b[43mrun_with_retry\u001b[49m\u001b[43m(\u001b[49m\u001b[43mt\u001b[49m\u001b[43m,\u001b[49m\u001b[43m \u001b[49m\u001b[43mretry_policy\u001b[49m\u001b[43m)\u001b[49m\n\u001b[1;32m     57\u001b[0m     \u001b[38;5;28mself\u001b[39m\u001b[38;5;241m.\u001b[39mcommit(t, \u001b[38;5;28;01mNone\u001b[39;00m)\n\u001b[1;32m     58\u001b[0m \u001b[38;5;28;01mexcept\u001b[39;00m \u001b[38;5;167;01mException\u001b[39;00m \u001b[38;5;28;01mas\u001b[39;00m exc:\n",
      "File \u001b[0;32m~/Code+Notes/BargainBot/.BargainBot/lib/python3.12/site-packages/langgraph/pregel/retry.py:29\u001b[0m, in \u001b[0;36mrun_with_retry\u001b[0;34m(task, retry_policy)\u001b[0m\n\u001b[1;32m     27\u001b[0m task\u001b[38;5;241m.\u001b[39mwrites\u001b[38;5;241m.\u001b[39mclear()\n\u001b[1;32m     28\u001b[0m \u001b[38;5;66;03m# run the task\u001b[39;00m\n\u001b[0;32m---> 29\u001b[0m \u001b[43mtask\u001b[49m\u001b[38;5;241;43m.\u001b[39;49m\u001b[43mproc\u001b[49m\u001b[38;5;241;43m.\u001b[39;49m\u001b[43minvoke\u001b[49m\u001b[43m(\u001b[49m\u001b[43mtask\u001b[49m\u001b[38;5;241;43m.\u001b[39;49m\u001b[43minput\u001b[49m\u001b[43m,\u001b[49m\u001b[43m \u001b[49m\u001b[43mconfig\u001b[49m\u001b[43m)\u001b[49m\n\u001b[1;32m     30\u001b[0m \u001b[38;5;66;03m# if successful, end\u001b[39;00m\n\u001b[1;32m     31\u001b[0m \u001b[38;5;28;01mbreak\u001b[39;00m\n",
      "File \u001b[0;32m~/Code+Notes/BargainBot/.BargainBot/lib/python3.12/site-packages/langgraph/utils/runnable.py:405\u001b[0m, in \u001b[0;36mRunnableSeq.invoke\u001b[0;34m(self, input, config, **kwargs)\u001b[0m\n\u001b[1;32m    403\u001b[0m context\u001b[38;5;241m.\u001b[39mrun(_set_config_context, config)\n\u001b[1;32m    404\u001b[0m \u001b[38;5;28;01mif\u001b[39;00m i \u001b[38;5;241m==\u001b[39m \u001b[38;5;241m0\u001b[39m:\n\u001b[0;32m--> 405\u001b[0m     \u001b[38;5;28minput\u001b[39m \u001b[38;5;241m=\u001b[39m \u001b[43mcontext\u001b[49m\u001b[38;5;241;43m.\u001b[39;49m\u001b[43mrun\u001b[49m\u001b[43m(\u001b[49m\u001b[43mstep\u001b[49m\u001b[38;5;241;43m.\u001b[39;49m\u001b[43minvoke\u001b[49m\u001b[43m,\u001b[49m\u001b[43m \u001b[49m\u001b[38;5;28;43minput\u001b[39;49m\u001b[43m,\u001b[49m\u001b[43m \u001b[49m\u001b[43mconfig\u001b[49m\u001b[43m,\u001b[49m\u001b[43m \u001b[49m\u001b[38;5;241;43m*\u001b[39;49m\u001b[38;5;241;43m*\u001b[39;49m\u001b[43mkwargs\u001b[49m\u001b[43m)\u001b[49m\n\u001b[1;32m    406\u001b[0m \u001b[38;5;28;01melse\u001b[39;00m:\n\u001b[1;32m    407\u001b[0m     \u001b[38;5;28minput\u001b[39m \u001b[38;5;241m=\u001b[39m context\u001b[38;5;241m.\u001b[39mrun(step\u001b[38;5;241m.\u001b[39minvoke, \u001b[38;5;28minput\u001b[39m, config)\n",
      "File \u001b[0;32m~/Code+Notes/BargainBot/.BargainBot/lib/python3.12/site-packages/langgraph/utils/runnable.py:181\u001b[0m, in \u001b[0;36mRunnableCallable.invoke\u001b[0;34m(self, input, config, **kwargs)\u001b[0m\n\u001b[1;32m    179\u001b[0m \u001b[38;5;28;01melse\u001b[39;00m:\n\u001b[1;32m    180\u001b[0m     context\u001b[38;5;241m.\u001b[39mrun(_set_config_context, config)\n\u001b[0;32m--> 181\u001b[0m     ret \u001b[38;5;241m=\u001b[39m \u001b[43mcontext\u001b[49m\u001b[38;5;241;43m.\u001b[39;49m\u001b[43mrun\u001b[49m\u001b[43m(\u001b[49m\u001b[38;5;28;43mself\u001b[39;49m\u001b[38;5;241;43m.\u001b[39;49m\u001b[43mfunc\u001b[49m\u001b[43m,\u001b[49m\u001b[43m \u001b[49m\u001b[38;5;28;43minput\u001b[39;49m\u001b[43m,\u001b[49m\u001b[43m \u001b[49m\u001b[38;5;241;43m*\u001b[39;49m\u001b[38;5;241;43m*\u001b[39;49m\u001b[43mkwargs\u001b[49m\u001b[43m)\u001b[49m\n\u001b[1;32m    182\u001b[0m \u001b[38;5;28;01mif\u001b[39;00m \u001b[38;5;28misinstance\u001b[39m(ret, Runnable) \u001b[38;5;129;01mand\u001b[39;00m \u001b[38;5;28mself\u001b[39m\u001b[38;5;241m.\u001b[39mrecurse:\n\u001b[1;32m    183\u001b[0m     \u001b[38;5;28;01mreturn\u001b[39;00m ret\u001b[38;5;241m.\u001b[39minvoke(\u001b[38;5;28minput\u001b[39m, config)\n",
      "Cell \u001b[0;32mIn[2], line 57\u001b[0m, in \u001b[0;36mchatbot\u001b[0;34m(state)\u001b[0m\n\u001b[1;32m     56\u001b[0m \u001b[38;5;28;01mdef\u001b[39;00m \u001b[38;5;21mchatbot\u001b[39m(state: State):\n\u001b[0;32m---> 57\u001b[0m     chatbot_response \u001b[38;5;241m=\u001b[39m \u001b[43mllm_with_tools\u001b[49m\u001b[38;5;241m.\u001b[39minvoke(state[\u001b[38;5;124m\"\u001b[39m\u001b[38;5;124mmessages\u001b[39m\u001b[38;5;124m\"\u001b[39m])\n\u001b[1;32m     58\u001b[0m     \u001b[38;5;28;01mif\u001b[39;00m chatbot_response:  \u001b[38;5;66;03m# Ensure there is a response\u001b[39;00m\n\u001b[1;32m     59\u001b[0m         \u001b[38;5;28;01mreturn\u001b[39;00m {\u001b[38;5;124m\"\u001b[39m\u001b[38;5;124mmessages\u001b[39m\u001b[38;5;124m\"\u001b[39m: [chatbot_response]}\n",
      "\u001b[0;31mNameError\u001b[0m: name 'llm_with_tools' is not defined"
     ]
    }
   ],
   "source": [
    "from typing import Annotated\n",
    "from langchain_groq import ChatGroq\n",
    "from langchain.tools import DuckDuckGoSearchResults\n",
    "from langchain_core.messages import HumanMessage, AIMessage\n",
    "from typing_extensions import TypedDict\n",
    "\n",
    "from langgraph.graph import StateGraph\n",
    "from langgraph.graph.message import add_messages\n",
    "from langgraph.prebuilt import ToolNode\n",
    "from langgraph.checkpoint.sqlite import SqliteSaver\n",
    "from langchain_core.output_parsers import JsonOutputParser\n",
    "from langchain_core.prompts import PromptTemplate\n",
    "\n",
    "class State(TypedDict):\n",
    "    messages: Annotated[list, add_messages]\n",
    "\n",
    "# Initialize the graph builder\n",
    "graph_builder = StateGraph(State)\n",
    "\n",
    "# Use DuckDuckGo Search Results as a tool\n",
    "tool = DuckDuckGoSearchResults(max_results=10)\n",
    "tools = [tool]\n",
    "\n",
    "# LLM setup for web search decision-making\n",
    "decision_llm = ChatGroq(model=\"llama3-groq-70b-8192-tool-use-preview\", temperature=0)\n",
    "\n",
    "# Prompt for deciding whether a tool is needed\n",
    "prompt = PromptTemplate(\n",
    "    template=\"\"\"You are a decision-making assistant. Based on the user query, decide if a web search is required. \n",
    "    If the query can be answered without additional search, return 'False'. Otherwise, return 'True'. \n",
    "    Respond in JSON format with a key 'use_tool' and the corresponding boolean value.\n",
    "    Query: {query}\"\"\",\n",
    "    input_variables=[\"query\"],\n",
    ")\n",
    "\n",
    "output_parser = JsonOutputParser()\n",
    "\n",
    "def decide_tool_use(state: State):\n",
    "    user_message = state[\"messages\"][-1].content  # Get the last user message\n",
    "    prompt_input = prompt.format(query=user_message)\n",
    "    \n",
    "    # Invoke the model without the 'format' argument\n",
    "    decision_response = decision_llm.invoke(prompt_input)\n",
    "    \n",
    "    # Extract the content from the AIMessage before passing it to the parser\n",
    "    decision_text = decision_response.content\n",
    "    \n",
    "    # Parse the decision\n",
    "    decision = output_parser.parse(decision_text)\n",
    "    \n",
    "    # Return the decision along with a new AI message\n",
    "    new_message = AIMessage(content=f\"The decision is to use the tool: {decision['use_tool']}\")\n",
    "    return {\"use_tool\": decision[\"use_tool\"], \"messages\": [new_message]}\n",
    "\n",
    "# Define chatbot node for handling user queries\n",
    "def chatbot(state: State):\n",
    "    chatbot_response = llm_with_tools.invoke(state[\"messages\"])\n",
    "    if chatbot_response:  # Ensure there is a response\n",
    "        return {\"messages\": [chatbot_response]}\n",
    "    else:\n",
    "        return {\"messages\": [AIMessage(content=\"I'm sorry, I don't have an answer for that.\")]}\n",
    "\n",
    "# Add decision node to graph\n",
    "graph_builder.add_node(\"decide_tool_use\", decide_tool_use)\n",
    "\n",
    "# Add chatbot and tool nodes\n",
    "graph_builder.add_node(\"chatbot\", chatbot)\n",
    "tool_node = ToolNode(tools=[tool])\n",
    "graph_builder.add_node(\"tools\", tool_node)\n",
    "\n",
    "# Define the routing function\n",
    "def route_decision(state: State):\n",
    "    if state.get(\"use_tool\"):\n",
    "        return \"tools\"\n",
    "    return \"chatbot\"\n",
    "\n",
    "# Set up conditional routing in the graph\n",
    "graph_builder.add_conditional_edges(\"decide_tool_use\", route_decision)\n",
    "graph_builder.add_edge(\"tools\", \"chatbot\")\n",
    "graph_builder.set_entry_point(\"decide_tool_use\")\n",
    "\n",
    "# Use SqliteSaver with a context manager\n",
    "with SqliteSaver.from_conn_string(\"../logs/chat_history.db\") as memory:\n",
    "    # Compile the graph with SQLite memory saver\n",
    "    graph = graph_builder.compile(checkpointer=memory)\n",
    "\n",
    "    from IPython.display import Image, display\n",
    "    try:\n",
    "        display(Image(graph.get_graph().draw_mermaid_png()))\n",
    "    except Exception:\n",
    "        pass\n",
    "\n",
    "    # Function to stream graph updates\n",
    "    def stream_graph_updates(user_input: str, thread_id=\"default\"):\n",
    "        config = {\"configurable\": {\"thread_id\": thread_id}}\n",
    "        for event in graph.stream({\"messages\": [HumanMessage(content=user_input)]}, config=config):\n",
    "            for value in event.values():\n",
    "                if \"messages\" in value and len(value[\"messages\"]) > 0:\n",
    "                    print(\"Assistant:\", value[\"messages\"][-1].content)\n",
    "                else:\n",
    "                    print(\"Assistant: No messages available\")\n",
    "\n",
    "    # Chat loop to interact with the bot\n",
    "    while True:\n",
    "        try:\n",
    "            user_input = input(\"User: \")\n",
    "            if user_input.lower() in [\"quit\", \"exit\", \"q\"]:\n",
    "                print(\"Goodbye!\")\n",
    "                break\n",
    "\n",
    "            stream_graph_updates(user_input)\n",
    "        except:\n",
    "            # Fallback if input() is not available\n",
    "            user_input = \"What do you know about LangGraph?\"\n",
    "            print(\"User: \" + user_input)\n",
    "            stream_graph_updates(user_input)\n",
    "            break\n"
   ]
  },
  {
   "cell_type": "code",
   "execution_count": 19,
   "metadata": {},
   "outputs": [],
   "source": [
    "# LLM setup for web search decision-making\n",
    "from langchain_core.prompts import PromptTemplate\n",
    "from langchain_core.output_parsers import StrOutputParser\n",
    "from langchain_core.prompts import ChatPromptTemplate\n",
    "\n",
    "reflector_llm = ChatGroq(model=\"llama-3.1-70b-versatile\", temperature=0)\n",
    "\n",
    "prompt = ChatPromptTemplate.from_template(\"\"\"\n",
    "You are an AI assistant tasked with helping a salesperson negotiate and sell a product for the highest possible price. Your goal is to generate a comprehensive list of targeted, research-focused questions that the salesperson needs to explore online to gather relevant information about the product and its competitive landscape. These questions should be designed to extract data from a wide array of web sources, such as competitor websites, customer reviews, industry reports, and expert opinions, with the aim of positioning the product as a premium offering. Use advanced questioning techniques like layered inquiries, assumption-challenging questions, and open-ended probes to gather the necessary details. Ensure your questions address multiple dimensions of the product, including but not limited to its unique selling points (USPs), current pricing trends, consumer demand, market positioning, competitive advantages, features that justify a higher price point, and any perceived weaknesses or gaps in the competition. You should also generate questions that identify potential negotiation leverage, such as exploring potential scarcity of resources, understanding the financial health of the target market, evaluating regional pricing variations, and discovering customer pain points that the product can uniquely solve. The questions must drive the salesperson toward an understanding of customer behaviors, preferences, and expectations, allowing them to effectively justify a premium price. Incorporate questions that explore buyer personas, recent industry developments, and key influencers or decision-makers that could affect purchasing decisions. Additionally, ensure the questions cover legal or regulatory considerations that could impact pricing strategies. In short, list out all possible questions the salesperson should research online to build a robust, data-driven strategy for negotiating the highest possible price for their product.\n",
    "    Query: {query}\n",
    "    Region: {region}\n",
    "\n",
    "    Format to follow:\n",
    "    1. Question 1\n",
    "    2. Question 2\n",
    "    ...\n",
    "    20. Question 20\n",
    "\n",
    "    CAUTION:\n",
    "    Only 20 questions are allowed.\n",
    "    No need of categorizing the questions. Just list them out in a sequential order.\n",
    "\"\"\")\n",
    "\n",
    "output_parser = StrOutputParser()\n",
    "\n",
    "chain = prompt | reflector_llm | output_parser\n",
    "\n",
    "response = chain.invoke({\"query\": \"Nothing Phone 2A\", \"region\": \"India\"})"
   ]
  },
  {
   "cell_type": "code",
   "execution_count": 20,
   "metadata": {},
   "outputs": [
    {
     "name": "stdout",
     "output_type": "stream",
     "text": [
      "1. What are the key features and specifications of the Nothing Phone 2A that differentiate it from its competitors in the Indian market?\n",
      "2. What are the current market trends and consumer preferences in India regarding premium smartphones, and how can the Nothing Phone 2A capitalize on these trends?\n",
      "3. What are the unique selling points (USPs) of the Nothing Phone 2A, and how can they be leveraged to justify a higher price point?\n",
      "4. What are the pricing strategies of competitors such as Apple, Samsung, and Google in the Indian premium smartphone market, and how can the Nothing Phone 2A differentiate itself?\n",
      "5. What are the customer pain points and needs that the Nothing Phone 2A can uniquely solve, and how can these be used to justify a premium price?\n",
      "6. What are the recent industry developments and technological advancements in the smartphone market that the Nothing Phone 2A can leverage to position itself as a premium offering?\n",
      "7. Who are the key influencers and decision-makers in the Indian premium smartphone market, and how can they be targeted to promote the Nothing Phone 2A?\n",
      "8. What are the regional pricing variations for premium smartphones in India, and how can the Nothing Phone 2A be priced competitively across different regions?\n",
      "9. What are the perceived weaknesses or gaps in the competition that the Nothing Phone 2A can exploit to position itself as a premium offering?\n",
      "10. What are the customer reviews and ratings of the Nothing Phone 2A on various online platforms, and what do they reveal about customer satisfaction and expectations?\n",
      "11. What are the financial health and purchasing power of the target market in India, and how can the Nothing Phone 2A be priced to appeal to this demographic?\n",
      "12. What are the regulatory considerations and legal requirements that need to be taken into account when pricing the Nothing Phone 2A in India?\n",
      "13. What are the potential scarcity of resources or supply chain constraints that could impact the pricing of the Nothing Phone 2A in India?\n",
      "14. What are the features and specifications of the Nothing Phone 2A that justify a higher price point compared to its competitors?\n",
      "15. What are the buyer personas and customer segments that the Nothing Phone 2A can target in the Indian premium smartphone market?\n",
      "16. What are the industry reports and market research studies that provide insights into the Indian premium smartphone market and the Nothing Phone 2A's position within it?\n",
      "17. What are the social media and online forums where potential customers are discussing the Nothing Phone 2A, and what are their concerns and expectations?\n",
      "18. What are the partnerships and collaborations that the Nothing Phone 2A can leverage to position itself as a premium offering in the Indian market?\n",
      "19. What are the warranty and after-sales support offered by the Nothing Phone 2A, and how can these be used to justify a premium price?\n",
      "20. What are the potential bundling and packaging options that can be offered with the Nothing Phone 2A to increase its perceived value and justify a higher price point?\n"
     ]
    }
   ],
   "source": [
    "print(response)\n",
    "# response = str(response)"
   ]
  },
  {
   "cell_type": "code",
   "execution_count": 21,
   "metadata": {},
   "outputs": [
    {
     "name": "stderr",
     "output_type": "stream",
     "text": [
      "/home/rikato/Code+Notes/BargainBot/.BargainBot/lib/python3.12/site-packages/langchain_groq/chat_models.py:361: UserWarning: WARNING! stream is not default parameter.\n",
      "                    stream was transferred to model_kwargs.\n",
      "                    Please confirm that stream is what you intended.\n",
      "  warnings.warn(\n",
      "/home/rikato/Code+Notes/BargainBot/.BargainBot/lib/python3.12/site-packages/langchain_groq/chat_models.py:361: UserWarning: WARNING! response_format is not default parameter.\n",
      "                    response_format was transferred to model_kwargs.\n",
      "                    Please confirm that response_format is what you intended.\n",
      "  warnings.warn(\n"
     ]
    }
   ],
   "source": [
    "## Research Router \n",
    "GROQ_LLM = ChatGroq(\n",
    "    model=\"llama3-groq-70b-8192-tool-use-preview\",\n",
    "    temperature=0, stream=False,\n",
    "    response_format={\"type\": \"json_object\"},\n",
    "    )\n",
    "prompt = PromptTemplate(\n",
    "    template=\"\"\"\n",
    "    Convert research plan into JSON format - \n",
    "    \n",
    "    \"1\": \"<Question 1>\",\n",
    "    \"2\": \"<Question 2>\"\n",
    "    ...\n",
    "    \"n\": \"<Question n>\"\n",
    "    \n",
    "    Research Plan: {research_plan}\n",
    "    \"\"\",\n",
    "    input_variables=[\"research_plan\"],\n",
    ")\n",
    "\n",
    "router = prompt | GROQ_LLM | JsonOutputParser()\n",
    "\n",
    "json_response = router.invoke({\"research_plan\": response})"
   ]
  },
  {
   "cell_type": "code",
   "execution_count": 22,
   "metadata": {},
   "outputs": [
    {
     "name": "stdout",
     "output_type": "stream",
     "text": [
      "{\n",
      "    \"1\": \"What are the key features and specifications of the Nothing Phone 2A that differentiate it from its competitors in the Indian market?\",\n",
      "    \"2\": \"What are the current market trends and consumer preferences in India regarding premium smartphones, and how can the Nothing Phone 2A capitalize on these trends?\",\n",
      "    \"3\": \"What are the unique selling points (USPs) of the Nothing Phone 2A, and how can they be leveraged to justify a higher price point?\",\n",
      "    \"4\": \"What are the pricing strategies of competitors such as Apple, Samsung, and Google in the Indian premium smartphone market, and how can the Nothing Phone 2A differentiate itself?\",\n",
      "    \"5\": \"What are the customer pain points and needs that the Nothing Phone 2A can uniquely solve, and how can these be used to justify a premium price?\",\n",
      "    \"6\": \"What are the recent industry developments and technological advancements in the smartphone market that the Nothing Phone 2A can leverage to position itself as a premium offering?\",\n",
      "    \"7\": \"Who are the key influencers and decision-makers in the Indian premium smartphone market, and how can they be targeted to promote the Nothing Phone 2A?\",\n",
      "    \"8\": \"What are the regional pricing variations for premium smartphones in India, and how can the Nothing Phone 2A be priced competitively across different regions?\",\n",
      "    \"9\": \"What are the perceived weaknesses or gaps in the competition that the Nothing Phone 2A can exploit to position itself as a premium offering?\",\n",
      "    \"10\": \"What are the customer reviews and ratings of the Nothing Phone 2A on various online platforms, and what do they reveal about customer satisfaction and expectations?\",\n",
      "    \"11\": \"What are the financial health and purchasing power of the target market in India, and how can the Nothing Phone 2A be priced to appeal to this demographic?\",\n",
      "    \"12\": \"What are the regulatory considerations and legal requirements that need to be taken into account when pricing the Nothing Phone 2A in India?\",\n",
      "    \"13\": \"What are the potential scarcity of resources or supply chain constraints that could impact the pricing of the Nothing Phone 2A in India?\",\n",
      "    \"14\": \"What are the features and specifications of the Nothing Phone 2A that justify a higher price point compared to its competitors?\",\n",
      "    \"15\": \"What are the buyer personas and customer segments that the Nothing Phone 2A can target in the Indian premium smartphone market?\",\n",
      "    \"16\": \"What are the industry reports and market research studies that provide insights into the Indian premium smartphone market and the Nothing Phone 2A's position within it?\",\n",
      "    \"17\": \"What are the social media and online forums where potential customers are discussing the Nothing Phone 2A, and what are their concerns and expectations?\",\n",
      "    \"18\": \"What are the partnerships and collaborations that the Nothing Phone 2A can leverage to position itself as a premium offering in the Indian market?\",\n",
      "    \"19\": \"What are the warranty and after-sales support offered by the Nothing Phone 2A, and how can these be used to justify a premium price?\",\n",
      "    \"20\": \"What are the potential bundling and packaging options that can be offered with the Nothing Phone 2A to increase its perceived value and justify a higher price point?\"\n",
      "}\n"
     ]
    }
   ],
   "source": [
    "import json\n",
    "\n",
    "# Pretty print the JSON response\n",
    "print(json.dumps(json_response, indent=4))"
   ]
  },
  {
   "cell_type": "code",
   "execution_count": 23,
   "metadata": {},
   "outputs": [
    {
     "name": "stdout",
     "output_type": "stream",
     "text": [
      "Searching for:1. What are the key features and specifications of the Nothing Phone 2A that differentiate it from its competitors in the Indian market?\n"
     ]
    },
    {
     "data": {
      "text/markdown": [
       "Here's a summarized version of the content:\n",
       "\n",
       "**Key Features and Specifications of Nothing Phone 2A:**\n",
       "\n",
       "- **Price:** Starting at £319 (approximately $404 USD), making it a more affordable option compared to its regular counterpart.\n",
       "- **Operating System:** Launched on Android 14 and Nothing OS 2.5.\n",
       "- **Gaming Performance:** Bouted to be better than the Nothing Phone 1, thanks to its stronger GPU, despite a weaker CPU.\n",
       "- **Design:** Maintains the signature Nothing design with a transparent back and LED lights.\n",
       "- **Availability:** Available globally, except the US, where it has limited availability.\n",
       "- **Developer Program:** Available, but network support is patchy.\n",
       "- **Network Compatibility:** Works with T-Mobile's mid-band 5G and LTE networks.\n",
       "- **Internal Performance:** Geekbench scores indicate a balance between CPU and GPU performance suitable for both gaming and everyday tasks.\n",
       "- **Storage and RAM:** Offered in 8GB/128GB variation.\n",
       "\n",
       "**Comparison to Competitors:**\n",
       "\n",
       "- The Nothing Phone 2A is positioned to compete with mid-range devices, such as the Google Pixel 7a and iPhone SE (2022).\n",
       "- Its availability and pricing are expected to shake up the mid-range market.\n",
       "\n",
       "**Overall:**\n",
       "\n",
       "- The Nothing Phone 2A offers a balance of performance, design, and affordability, making it a viable option for budget-conscious buyers.\n",
       "- Despite its limitations in the US market, it still offers a unique blend of style and functionality at a lower price point than its premium cousin."
      ],
      "text/plain": [
       "<IPython.core.display.Markdown object>"
      ]
     },
     "metadata": {},
     "output_type": "display_data"
    },
    {
     "name": "stdout",
     "output_type": "stream",
     "text": [
      "Searching for:2. What are the current market trends and consumer preferences in India regarding premium smartphones, and how can the Nothing Phone 2A capitalize on these trends?\n"
     ]
    },
    {
     "data": {
      "text/markdown": [
       "**Current Market Trends and Consumer Preferences in India Regarding Premium Smartphones**\n",
       "\n",
       "The Indian premium smartphone market is experiencing significant growth, with a 52% year-on-year growth in the premium segment. The premium segment (US$600<US$800) has seen a massive growth, with phones like the iPhone 13/14, Galaxy S23, and Realme 13 Pro+ 5G being popular choices. The ultra-premium segment (phones priced above US$ 1,000) accounted for more than one-third of total premium market sales in 2023, driving the growth of the premium segment.\n",
       "\n",
       "**Shift in Consumer Preferences**\n",
       "\n",
       "The market has witnessed a shift towards AI and IoT-enabled smartphones. AI and Virtual Reality (VR) are being increasingly integrated into smartphones, making them more appealing to consumers. The Internet of Things (IoT) is also making smartphone connectivity more integral to daily life.\n",
       "\n",
       "**Increased Demand for Premium Smartphones**\n",
       "\n",
       "India is expected to emerge as the fastest-growing premium smartphone market globally in 2023, driven primarily by the ultra-premium segment. The market is expected to continue growing, with significant purchases of premium smartphones during the first half of 2024.\n",
       "\n",
       "**Key Trends to Capitalize on**\n",
       "\n",
       "The following trends can be capitalized on by the Nothing Phone 2A:\n",
       "1. Growing demand for premium smartphones: With a 52% year-on-year growth in the premium segment, there is a significant demand for premium smartphones in India.\n",
       "2. Integration of AI and IoT: The integration of AI and IoT features in smartphones is expected to continue, making the smartphone more appealing to consumers.\n",
       "3. Ultra-premium segment growth: The ultra-premium segment (phones priced above US$ 1,000) is expected to continue growing, driven by the demand for high-end smartphones.\n",
       "\n",
       "**How to Capitalize on These Trends**\n",
       "\n",
       "To capitalize on these trends, the Nothing Phone 2A can focus on:\n",
       "1. Incorporating AI and IoT features in the smartphone to make it more appealing to consumers.\n",
       "2. Targeting the ultra-premium segment with high-end features and designs.\n",
       "3. Emphasizing the premium features and designs in marketing and advertising to appeal to consumers looking for a high-end smartphone experience.\n",
       "\n",
       "By understanding and capitalizing on these trends, the Nothing Phone 2A can position itself as a premium smartphone brand in the Indian market and attract consumers looking for high-end smartphones."
      ],
      "text/plain": [
       "<IPython.core.display.Markdown object>"
      ]
     },
     "metadata": {},
     "output_type": "display_data"
    },
    {
     "name": "stdout",
     "output_type": "stream",
     "text": [
      "Question 1: What are the key features and specifications of the Nothing Phone 2A that differentiate it from its competitors in the Indian market?\n",
      "Insights: snippet: The Nothing Phone (2a) is much cheaper. As alluded to, the Nothing Phone (2a) is way cheaper than the regular Nothing Phone (2), starting at just £319. That's almost half the price of the ..., title: Nothing Phone (2a) vs Nothing Phone (2): What's the difference?, link: https://www.trustedreviews.com/versus/nothing-phone-2a-vs-nothing-phone-2-4433129, snippet: The Nothing Phone 2 launched on Android 13 and ran Nothing OS 2.0, while the newer Phone 2a and 2a Plus launched on Android 14 and ran Nothing OS 2.5 and 2.6 from the get-go, respectively., title: Nothing Phone 2 vs Nothing Phone 2a vs Nothing Phone 2a ... - TechRadar, link: https://www.techradar.com/phones/nothing-phones/nothing-phone-2-vs-nothing-phone-2a-vs-nothing-phone-2a-plus, snippet: Geekbench 6.2.2 scores help show that the Nothing Phone 2a has a weaker CPU but a stronger GPU than the Nothing Phone 1. Gaming, therefore, is commonly better on Phone 2a, but everyday tasks are ..., title: Nothing Phone 2a: All the answers to your questions, link: https://www.androidcentral.com/phones/nothing-phone-2a-questions-answered, snippet: Frankly, the Google Pixel 7a and iPhone SE (2022) — two phones I've spent a great deal of time using as my daily drivers — should be afraid. In my Nothing Phone 2a review, I'll tell you ..., title: Nothing Phone 2a Review: Pixel 7a and iPhone SE should be scared, link: https://www.tomsguide.com/phones/android-phones/nothing-phone-2a-review, snippet: The Nothing Phone 2a aims to shake up the mid-range market, by taking some of the DNA of the Nothing Phone 2, but swapping out select higher-end components for scaled-back parts. The result is a ..., title: Nothing Phone 2a review: Distinctive design meets mid-range magic, link: https://www.techradar.com/phones/nothing-phones/nothing-phone-2a-review, snippet: However, limited availability in the U.S. is the Nothing Phone 2a's biggest drawback. ... because OnePlus has spent years breaking into the U.S. market to get its phones into the hands of ..., title: Nothing Phone 2a is everything I want in a budget phone — except for ..., link: https://www.tomsguide.com/phones/android-phones/nothing-phone-2a-is-everything-i-want-in-a-budget-phone-except-for-this-huge-drawback, snippet: Nothing unveiled the Phone 2a on March 5, 2024, and the phone is now available in most global markets where the brand has a presence. It costs £319 in the U.K. for the 8GB/128GB version, and the ..., title: Nothing Phone 2a review: Why would you buy anything else?, link: https://www.androidcentral.com/phones/nothing-phone-2a-review, snippet: The Phone 2A is only available through Nothing's developer program, which is open to anyone, but network support is a little patchy. It works with T-Mobile's mid-band 5G, but only supports LTE ..., title: The Nothing Phone 2A is thoughtfully designed and ... - The Verge, link: https://www.theverge.com/24090581/nothing-phone-2a-screen-battery-camera-price, snippet: The Nothing Phone 2a pairs a simplified version of Nothing's flashy design with internals that punch above its price tag. Rather than cheap-out on a flagship design, Nothing took the time to make ..., title: Nothing Phone 2a review: Should you buy it? - Android Authority, link: https://www.androidauthority.com/nothing-phone-2a-review-3426204/, snippet: Nothing Phone 2a. $329 $349 Save $20. Nothing Phone 2a is the latest mid-range smartphone from the brand. It maintains the signature Nothing design, featuring a transparent back with LED lights ..., title: Nothing Phone 2a Hands-On Review: Same Style, Lower Price - Pocketnow, link: https://pocketnow.com/nothing-phone-2a-hands-on/\n",
      "\n",
      "Question 2: What are the current market trends and consumer preferences in India regarding premium smartphones, and how can the Nothing Phone 2A capitalize on these trends?\n",
      "Insights: snippet: Whether you're in the market for a low-end device under new phone price 5000 or a premium flagship, staying informed about the latest trends and popular models can help you make the best decision for your needs and wallet. When considering a new smartphone, don't forget to explore the benefits of Airtel's Prepaid plans. With unlimited ..., title: New Phone Price Trends in India 2024: What to Expect in the Market - Airtel, link: https://www.airtel.in/blog/mobile-phones/new-phone-price-trends-in-india-2024-what-to-expect-in-the-market/, snippet: 14 March 2024. Shoppers are increasingly going in for the latest premium devices. AI and IoT-enabled devices are touching every aspect of our daily lives. Over the last three years, the consumer tech space has witnessed a radical shift in consumer preferences, with the Internet of Things (IoT), Virtual Reality (VR), Augmented Reality (AR), and ..., title: Insights into 2024 Indian consumer tech industry trends - About Amazon ..., link: https://www.aboutamazon.in/news/retail/2024-consumer-electronics-trends-in-india, snippet: GenAI set to capture smartphone market; share hits 4% in 2023. In volume growth in 2023 compared to 2016, the year 2023 could see about 24% growth in the global smartphone market's premium segment, up from 21% recorded in 2022 and 19% in 2021. This trend also signals a shift in consumer buying patterns in the smartphone market., title: India emerges as fastest growing 'premium' smartphone market in 2023, link: https://www.fortuneindia.com/technology/india-emerges-as-fastest-growing-premium-smartphone-market-in-2023/115305, snippet: maintained its strong performance in Q1 2024, reaching 35.3 million units. Vendors entered 2024 with an improved inventory situation, which allowed channels to embrace multiple new offerings launched during the quarter. The market saw a 15% year-on-year growth, owing to the lower base of Q1 2023, which faced inflationary pressures, weak demand ..., title: India's smartphone market saw a strong start to 2024, growing ... - Canalys, link: https://www.canalys.com/newsroom/india-smartphone-shipments-Q1-2024, snippet: The Indian smartphone market shipped 148.6 million units in 2023, witnessing a slight 2% year-on-year decline which fared better than the previously forecasted 6% drop.This stabilization was facilitated by strategic vendor inventory management, the launch of new, more affordable 5G models and an improved consumer environment in the latter half of the year, despite ongoing inflationary pressures., title: Indian smartphone market stabilized in 2023, eyeing growth in 2024, link: https://www.canalys.com/insights/india-smartphone-market-2024, snippet: However, the entry-premium, mid-premium, and premium segments have registered growth, and the average selling price of the smartphone has risen to US$253 or approx Rs 21,068. The premium segment (US$600<US$800) has registered a massive 52 per cent year-on-year growth with a 3 per cent market share and phones like the iPhone 13/14, Galaxy S23 ..., title: Premium smartphone segment registers the highest growth in India, link: https://indianexpress.com/article/technology/tech-news-technology/india-smartphone-market-2023-report-idc-9017095/, snippet: List of Best Mobile Phones, last updated on 01 October 2024. Best Mobile Phones in [October 2024], List of the Best Smartphones with price are Google Pixel 9 Pro XL, Realme 13 Pro+ 5G, Motorola Razr 50 Ultra, Vivo X Fold 3 Pro, Realme 12 Pro+ 5G, Oppo Find X7 Ultra, Samsung Galaxy S24 Ultra, OnePlus 12, Vivo X100 Pro & Xiaomi 14., title: Best Mobile Phones in India (October, 2024) | Latest & New Smartphones ..., link: https://www.gadgets360.com/mobiles/best-phones, snippet: Notably, India is anticipated to emerge as the fastest-growing premium market worldwide. The report underscores that the growth is primarily driven by the ultra-premium segment, denoting smartphones priced at US$ 1,000 and above, which accounted for more than one-third of total premium market sales in 2023. A discernible shift in consumer ..., title: India fastest growing premium smartphone market globally in 2023 ... - IBEF, link: https://www.ibef.org/news/india-fastest-growing-premium-smartphone-market-globally-in-2023-report, snippet: Through our rigorous testing processes and time spent with these premium devices, some of the absolute best premium smartphones in India are the Apple iPhone 14 Pro Max, Samsung Galaxy S23 Ultra ..., title: Best Premium Mobile Phones in India ( October 2024 ) - Digit, link: https://www.digit.in/top-products/best-premium-smartphones-to-buy-in-india-3566.html, snippet: The premiumization trend has markedly accelerated in the consumer electronics sector, with significant growth in the sales of smartphones, appliances, and televisions during the first half of 2024. According to GfK India, the offline consumer electronics market saw an 11% increase in value compared to last year. In comparison, volume grew by ..., title: Consumer shift to premium products drives India's electronics market ..., link: https://www.ibef.org/news/consumer-shift-to-premium-products-drives-india-s-electronics-market-growth\n",
      "\n"
     ]
    }
   ],
   "source": [
    "# Function to search the internet for the 20 questions and collect insights\n",
    "# Use DuckDuckGo Search Results instead of TavilySearchResults\n",
    "from IPython.display import Markdown, display\n",
    "from langchain_ollama import ChatOllama\n",
    "import time\n",
    "\n",
    "tool = DuckDuckGoSearchResults(num_results=10, region=\"in-en\", safesearch=\"off\")\n",
    "tools = [tool]\n",
    "llm = ChatOllama(model=\"llama-3.1\", temperature=1)\n",
    "llm_with_tools = llm.bind_tools(tools)\n",
    "\n",
    "def reform_research(question, results):\n",
    "    negoitator_llm = ChatGroq(model=\"llama-3.2-3b-preview\", temperature=1)\n",
    "\n",
    "    prompt = ChatPromptTemplate.from_template(\"\"\"\n",
    "    With the provided question and answer, I want the information to be in summarized and content, don't be in question and answer way. Make sure the content is accurate and to the point with no irrelevant information apart from the question. Take your time and go through chain of thoughts processing the information.\n",
    "    question: {question}\n",
    "    results: {results}\n",
    "    \"\"\")\n",
    "\n",
    "    output_parser = StrOutputParser()\n",
    "\n",
    "    chain = prompt | negoitator_llm | output_parser\n",
    "\n",
    "    response = chain.invoke({\"question\": question, \"results\": results})\n",
    "    return response\n",
    "\n",
    "def search_insights(questions: dict):\n",
    "    insights = {}\n",
    "    question_no = 0    \n",
    "    for key, question in questions.items():\n",
    "        question_no+=1\n",
    "        if question_no == 3: break\n",
    "        print(f\"Searching for:{question_no}. {question}\")\n",
    "        time.sleep(10)\n",
    "        results = tool.invoke(question)\n",
    "        display(Markdown(reform_research(question, results)))\n",
    "        # print(reform_research(question, results))\n",
    "        insights[key] = results\n",
    "    return insights\n",
    "\n",
    "# Collect insights for the 20 questions\n",
    "insights = search_insights(json_response)\n",
    "\n",
    "# Print the collected insights\n",
    "for key, value in insights.items():\n",
    "    print(f\"Question {key}: {json_response[key]}\")\n",
    "    print(f\"Insights: {value}\\n\")"
   ]
  },
  {
   "cell_type": "code",
   "execution_count": 24,
   "metadata": {},
   "outputs": [],
   "source": [
    "# LLM setup for web search decision-making\n",
    "negoitator_llm = ChatGroq(model=\"llama-3.1-70b-versatile\", temperature=0)\n",
    "\n",
    "prompt = ChatPromptTemplate.from_template(\"\"\"\n",
    "You are an excellent negotiator, use the below research context to your advantage and sell the product for the highest posisble price. Don't mention yourself to be a negotaition assistant. Just use the context to your advantage and negotiate the best price for the product.\n",
    "\n",
    "Research Context: {research_context}\n",
    "User Query: {user_query}\n",
    "Region: {region}\n",
    "\"\"\")\n",
    "\n",
    "output_parser = StrOutputParser()\n",
    "\n",
    "chain = prompt | negoitator_llm | output_parser\n",
    "\n",
    "response = chain.invoke({\"research_context\": insights, \"user_query\": input(), \"region\": \"India\"})"
   ]
  },
  {
   "cell_type": "code",
   "execution_count": 42,
   "metadata": {},
   "outputs": [
    {
     "data": {
      "text/plain": [
       "'\\n\\n'"
      ]
     },
     "execution_count": 42,
     "metadata": {},
     "output_type": "execute_result"
    }
   ],
   "source": [
    "\"\"\"\n",
    "\n",
    "\"\"\""
   ]
  },
  {
   "cell_type": "code",
   "execution_count": 25,
   "metadata": {},
   "outputs": [
    {
     "name": "stdout",
     "output_type": "stream",
     "text": [
      "Considering you're in India, I'd like to highlight some key points that might influence your decision. The Indian smartphone market has seen a significant shift towards premium devices, with the ultra-premium segment (smartphones priced at $1,000 and above) accounting for over one-third of total premium market sales in 2023.\n",
      "\n",
      "Now, let's compare the two options:\n",
      "\n",
      "The Nothing Phone 2a is a mid-range smartphone that offers a unique design, decent performance, and a lower price point (around ₹25,000 - ₹30,000). However, it might not be the best choice if you're looking for a premium experience.\n",
      "\n",
      "On the other hand, the iPhone SE (2022) is a compact, premium smartphone that offers a seamless user experience, excellent camera performance, and a robust ecosystem. However, it comes with a higher price tag (around ₹50,000 - ₹60,000).\n",
      "\n",
      "Considering the current market trends in India, I'd recommend the iPhone SE (2022) if you're willing to invest in a premium device. The iPhone SE (2022) is a more future-proof option, and its resale value is generally higher compared to mid-range Android devices.\n",
      "\n",
      "However, if budget is a concern, the Nothing Phone 2a is still a great option. It offers a unique design, decent performance, and a lower price point. But keep in mind that you might miss out on some premium features and a more seamless user experience.\n",
      "\n",
      "As for the price, I'd be willing to offer the iPhone SE (2022) for ₹55,000, considering the current market trends and the device's premium features. The Nothing Phone 2a, on the other hand, can be offered for ₹28,000.\n",
      "\n",
      "Which one would you prefer?\n"
     ]
    }
   ],
   "source": [
    "print(response)"
   ]
  },
  {
   "cell_type": "code",
   "execution_count": null,
   "metadata": {},
   "outputs": [],
   "source": []
  },
  {
   "cell_type": "code",
   "execution_count": null,
   "metadata": {},
   "outputs": [],
   "source": []
  }
 ],
 "metadata": {
  "kernelspec": {
   "display_name": ".venv",
   "language": "python",
   "name": "python3"
  },
  "language_info": {
   "codemirror_mode": {
    "name": "ipython",
    "version": 3
   },
   "file_extension": ".py",
   "mimetype": "text/x-python",
   "name": "python",
   "nbconvert_exporter": "python",
   "pygments_lexer": "ipython3",
   "version": "3.12.3"
  }
 },
 "nbformat": 4,
 "nbformat_minor": 2
}
