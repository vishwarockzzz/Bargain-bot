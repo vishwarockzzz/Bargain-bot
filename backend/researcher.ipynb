{
 "cells": [
  {
   "cell_type": "markdown",
   "metadata": {},
   "source": [
    "# Research Agentic Workflow"
   ]
  },
  {
   "cell_type": "code",
   "execution_count": 1,
   "metadata": {},
   "outputs": [],
   "source": [
    "import os\n",
    "from dotenv import load_dotenv\n",
    "\n",
    "# Load environment variables from the .env file\n",
    "load_dotenv()\n",
    "\n",
    "# Access the environment variable\n",
    "groq_api_key = os.getenv(\"GROQ_API_KEY\")"
   ]
  },
  {
   "cell_type": "code",
   "execution_count": 2,
   "metadata": {},
   "outputs": [],
   "source": [
    "import time\n",
    "import json\n",
    "from IPython.display import Markdown, display\n",
    "from langchain_community.tools import DuckDuckGoSearchResults, DuckDuckGoSearchRun\n",
    "from langchain_core.output_parsers import JsonOutputParser, StrOutputParser\n",
    "from langchain_core.prompts import ChatPromptTemplate, PromptTemplate\n",
    "from langchain_groq import ChatGroq\n",
    "from langchain_ollama import ChatOllama\n",
    "from collections import defaultdict\n",
    "from langgraph.graph import StateGraph\n",
    "from IPython.display import Image, display\n",
    "from langgraph.graph import START, END\n",
    "from typing_extensions import TypedDict, NotRequired\n",
    "from typing import Dict\n",
    "from prompts import reflector_prompt, json_transformer_prompt, reform_researcher_prompt\n"
   ]
  },
  {
   "cell_type": "markdown",
   "metadata": {},
   "source": [
    "## Components"
   ]
  },
  {
   "cell_type": "code",
   "execution_count": 3,
   "metadata": {},
   "outputs": [],
   "source": [
    "# Quesion Reflector\n",
    "reflector_llm = ChatGroq(model=\"llama-3.1-70b-versatile\", temperature=0)\n",
    "\n",
    "reflector_output_parser = StrOutputParser()\n",
    "\n",
    "reflector_chain = reflector_prompt | reflector_llm | reflector_output_parser"
   ]
  },
  {
   "cell_type": "code",
   "execution_count": 4,
   "metadata": {},
   "outputs": [],
   "source": [
    "# JSON Transformer\n",
    "json_transformer_llm = ChatGroq(\n",
    "    model=\"llama3-groq-70b-8192-tool-use-preview\",\n",
    "    temperature=0,\n",
    "    model_kwargs={\n",
    "        \"stream\": False,\n",
    "        \"response_format\": {\"type\": \"json_object\"},\n",
    "    }\n",
    ")\n",
    "\n",
    "json_transformer_output_parser = JsonOutputParser()\n",
    "\n",
    "json_transformer_chain = json_transformer_prompt | json_transformer_llm | json_transformer_output_parser"
   ]
  },
  {
   "cell_type": "code",
   "execution_count": 5,
   "metadata": {},
   "outputs": [],
   "source": [
    "# tool = DuckDuckGoSearchResults(num_results=10, safesearch=\"off\")\n",
    "tool = DuckDuckGoSearchRun(num_results=10, safesearch=\"off\")"
   ]
  },
  {
   "cell_type": "code",
   "execution_count": 6,
   "metadata": {},
   "outputs": [],
   "source": [
    "def reform_research(question, results):\n",
    "    reform_researcher_llm = ChatGroq(model=\"llama-3.2-90b-text-preview\", temperature=1)\n",
    "    # reform_researcher_llm = ChatOllama(model=\"llama3.2\", temperature=1)\n",
    "    \n",
    "    reform_researcher_output_parser = StrOutputParser()\n",
    "\n",
    "    chain = reform_researcher_prompt | reform_researcher_llm | reform_researcher_output_parser\n",
    "\n",
    "    response = chain.invoke({\"question\": question, \"results\": results})\n",
    "    \n",
    "    return response"
   ]
  },
  {
   "cell_type": "code",
   "execution_count": 7,
   "metadata": {},
   "outputs": [],
   "source": [
    "def search_insights(questions: dict):\n",
    "    question_no = 0\n",
    "    research_result = \"---\"\n",
    "    for key, question in questions.items():\n",
    "        question_no+=1\n",
    "        if question_no == 3: break\n",
    "        # time.sleep(10)\n",
    "        results = tool.invoke(question)\n",
    "        reformed_results = reform_research(question, results)\n",
    "        research_result += \"\\n\" + f\">{key} : {question}\" + \"\\n\\n\" + reformed_results + \"\\n\" + \"---\"\n",
    "    return research_result"
   ]
  },
  {
   "cell_type": "code",
   "execution_count": 8,
   "metadata": {},
   "outputs": [],
   "source": [
    "# Collect insights for the 20 questions\n",
    "# research_result = search_insights(json_response)"
   ]
  },
  {
   "cell_type": "code",
   "execution_count": 9,
   "metadata": {},
   "outputs": [],
   "source": [
    "# display(Markdown(research_result))"
   ]
  },
  {
   "cell_type": "markdown",
   "metadata": {},
   "source": [
    "## Graph"
   ]
  },
  {
   "cell_type": "markdown",
   "metadata": {},
   "source": [
    "### Graph State"
   ]
  },
  {
   "cell_type": "code",
   "execution_count": 10,
   "metadata": {},
   "outputs": [],
   "source": [
    "class GraphState(TypedDict):\n",
    "    product: str  \n",
    "    region: str\n",
    "    target_market: NotRequired[str]\n",
    "    competitors: NotRequired[str]\n",
    "    pricing_strategy: NotRequired[str]\n",
    "    context: NotRequired[str]\n",
    "    questions_generated: str\n",
    "    questions_formatted: Dict[str, str]  # Corrected spelling\n",
    "    research_result: str"
   ]
  },
  {
   "cell_type": "markdown",
   "metadata": {},
   "source": [
    "### Nodes"
   ]
  },
  {
   "cell_type": "code",
   "execution_count": 11,
   "metadata": {},
   "outputs": [],
   "source": [
    "def generate_questions(state):\n",
    "    print(\"---QUESTIONNING---\")\n",
    "    product = state[\"product\"]\n",
    "    region = state[\"region\"]\n",
    "    target_market = state.get(\"target_market\", \"\")\n",
    "    competitors = state.get(\"competitors\", \"\")\n",
    "    pricing_strategy = state.get(\"pricing_strategy\", \"\")\n",
    "    context = state.get(\"context\", \"\")\n",
    "\n",
    "    questions_response = reflector_chain.invoke({\n",
    "        \"product\": product, \n",
    "        \"region\": region, \n",
    "        \"target_market\": target_market, \n",
    "        \"competitors\": competitors, \n",
    "        \"pricing_strategy\": pricing_strategy, \n",
    "        \"contextual_info\": context\n",
    "    })\n",
    "    \n",
    "    return {\"questions_generated\": questions_response}"
   ]
  },
  {
   "cell_type": "code",
   "execution_count": 12,
   "metadata": {},
   "outputs": [],
   "source": [
    "def json_formatter(state):\n",
    "    print(\"---FORMATTING---\")\n",
    "    questions_generated = state[\"questions_generated\"]\n",
    "\n",
    "    formatted_questions = json_transformer_chain.invoke({\"questions_generated\": questions_generated})\n",
    "    \n",
    "    # Check if formatted_questions is already a dictionary\n",
    "    if isinstance(formatted_questions, dict):\n",
    "        formatted_questions_dict = formatted_questions\n",
    "    else:\n",
    "        # If it's a string, parse it as JSON\n",
    "        formatted_questions_dict = json.loads(formatted_questions)\n",
    "\n",
    "    return {\"questions_formatted\": formatted_questions_dict}  # Note the correct spelling here"
   ]
  },
  {
   "cell_type": "code",
   "execution_count": 13,
   "metadata": {},
   "outputs": [],
   "source": [
    "def research(state):\n",
    "    print(\"---RESEARCHING---\")\n",
    "    questions = state[\"questions_formatted\"]\n",
    "    \n",
    "    research = search_insights(questions)\n",
    "    \n",
    "    return {\"research_result\": research}"
   ]
  },
  {
   "cell_type": "markdown",
   "metadata": {},
   "source": [
    "### Control Flow"
   ]
  },
  {
   "cell_type": "code",
   "execution_count": 15,
   "metadata": {},
   "outputs": [],
   "source": [
    "\n",
    "workflow = StateGraph(GraphState)\n",
    "\n",
    "# Define the nodes\n",
    "workflow.add_node(\"generate_questions\", generate_questions)\n",
    "workflow.add_node(\"json_formatter\", json_formatter)\n",
    "workflow.add_node(\"research\", research)\n",
    "\n",
    "# Add edges\n",
    "workflow.add_edge(START, \"generate_questions\")\n",
    "workflow.add_edge(\"generate_questions\", \"json_formatter\")\n",
    "workflow.add_edge(\"json_formatter\", \"research\")\n",
    "workflow.add_edge(\"research\", END)\n",
    "\n",
    "# Set the entry point\n",
    "workflow.set_entry_point(\"generate_questions\")\n",
    "\n",
    "# Compile\n",
    "graph = workflow.compile()\n",
    "# display(Image(graph.get_graph().draw_mermaid_png()))"
   ]
  },
  {
   "cell_type": "code",
   "execution_count": 17,
   "metadata": {},
   "outputs": [
    {
     "name": "stdout",
     "output_type": "stream",
     "text": [
      "{'product': 'Nothing Phone 2A', 'region': 'India', 'target_market': 'Tech-savvy consumers aged 18-35', 'competitors': 'Apple, Samsung, Xiaomi', 'pricing_strategy': 'Value-based pricing', 'context': 'The product is a new smartphone model with advanced camera features and long battery life.'}\n",
      "---QUESTIONNING---\n",
      "{'product': 'Nothing Phone 2A', 'region': 'India', 'target_market': 'Tech-savvy consumers aged 18-35', 'competitors': 'Apple, Samsung, Xiaomi', 'pricing_strategy': 'Value-based pricing', 'context': 'The product is a new smartphone model with advanced camera features and long battery life.', 'questions_generated': \"1. What are the current market trends for smartphones in India, and how does the Nothing Phone 2A fit into this landscape?\\n2. What are the unique selling points (USPs) of the Nothing Phone 2A compared to its competitors, and how can these be leveraged to justify a premium price?\\n3. What are the current prices of similar smartphones from competitors like Apple, Samsung, and Xiaomi in India, and how does the Nothing Phone 2A compare?\\n4. What are the most common pain points or complaints from customers about existing smartphones in the Indian market, and how does the Nothing Phone 2A address these concerns?\\n5. What are the key features and specifications of the Nothing Phone 2A that justify a higher price point compared to its competitors?\\n6. How does the Nothing Phone 2A's advanced camera features and long battery life compare to other smartphones in the Indian market?\\n7. What are the recent industry developments and trends in the Indian smartphone market, and how can the Nothing Phone 2A capitalize on these trends?\\n8. Who are the key influencers or decision-makers in the Indian smartphone market, and how can they be leveraged to promote the Nothing Phone 2A?\\n9. What are the buyer personas for the Nothing Phone 2A in India, and what are their preferences, behaviors, and expectations when it comes to purchasing a smartphone?\\n10. How does the Nothing Phone 2A's value-based pricing strategy align with the expectations and behaviors of its target market in India?\\n11. What are the potential scarcity of resources or supply chain constraints that could impact the pricing of the Nothing Phone 2A in India?\\n12. What are the regional pricing variations for smartphones in India, and how can the Nothing Phone 2A be priced competitively across different regions?\\n13. What are the customer reviews and ratings for the Nothing Phone 2A's competitors in India, and how can these be used to identify areas for differentiation and premium pricing?\\n14. What are the financial health and purchasing power of the target market for the Nothing Phone 2A in India, and how can this information be used to inform pricing decisions?\\n15. What are the legal or regulatory considerations that could impact the pricing strategy for the Nothing Phone 2A in India, such as taxes or import duties?\\n16. How does the Nothing Phone 2A's warranty and after-sales support compare to its competitors in India, and how can this be used to justify a premium price?\\n17. What are the key features and specifications that customers are willing to pay a premium for in a smartphone in India, and how does the Nothing Phone 2A meet these expectations?\\n18. What are the potential weaknesses or gaps in the competition that the Nothing Phone 2A can exploit to justify a premium price?\\n19. How does the Nothing Phone 2A's brand reputation and image in India compare to its competitors, and how can this be leveraged to justify a premium price?\\n20. What are the potential bundling or upselling opportunities for the Nothing Phone 2A in India, such as accessories or services, and how can these be used to increase average revenue per user?\"}\n",
      "---FORMATTING---\n",
      "{'product': 'Nothing Phone 2A', 'region': 'India', 'target_market': 'Tech-savvy consumers aged 18-35', 'competitors': 'Apple, Samsung, Xiaomi', 'pricing_strategy': 'Value-based pricing', 'context': 'The product is a new smartphone model with advanced camera features and long battery life.', 'questions_generated': \"1. What are the current market trends for smartphones in India, and how does the Nothing Phone 2A fit into this landscape?\\n2. What are the unique selling points (USPs) of the Nothing Phone 2A compared to its competitors, and how can these be leveraged to justify a premium price?\\n3. What are the current prices of similar smartphones from competitors like Apple, Samsung, and Xiaomi in India, and how does the Nothing Phone 2A compare?\\n4. What are the most common pain points or complaints from customers about existing smartphones in the Indian market, and how does the Nothing Phone 2A address these concerns?\\n5. What are the key features and specifications of the Nothing Phone 2A that justify a higher price point compared to its competitors?\\n6. How does the Nothing Phone 2A's advanced camera features and long battery life compare to other smartphones in the Indian market?\\n7. What are the recent industry developments and trends in the Indian smartphone market, and how can the Nothing Phone 2A capitalize on these trends?\\n8. Who are the key influencers or decision-makers in the Indian smartphone market, and how can they be leveraged to promote the Nothing Phone 2A?\\n9. What are the buyer personas for the Nothing Phone 2A in India, and what are their preferences, behaviors, and expectations when it comes to purchasing a smartphone?\\n10. How does the Nothing Phone 2A's value-based pricing strategy align with the expectations and behaviors of its target market in India?\\n11. What are the potential scarcity of resources or supply chain constraints that could impact the pricing of the Nothing Phone 2A in India?\\n12. What are the regional pricing variations for smartphones in India, and how can the Nothing Phone 2A be priced competitively across different regions?\\n13. What are the customer reviews and ratings for the Nothing Phone 2A's competitors in India, and how can these be used to identify areas for differentiation and premium pricing?\\n14. What are the financial health and purchasing power of the target market for the Nothing Phone 2A in India, and how can this information be used to inform pricing decisions?\\n15. What are the legal or regulatory considerations that could impact the pricing strategy for the Nothing Phone 2A in India, such as taxes or import duties?\\n16. How does the Nothing Phone 2A's warranty and after-sales support compare to its competitors in India, and how can this be used to justify a premium price?\\n17. What are the key features and specifications that customers are willing to pay a premium for in a smartphone in India, and how does the Nothing Phone 2A meet these expectations?\\n18. What are the potential weaknesses or gaps in the competition that the Nothing Phone 2A can exploit to justify a premium price?\\n19. How does the Nothing Phone 2A's brand reputation and image in India compare to its competitors, and how can this be leveraged to justify a premium price?\\n20. What are the potential bundling or upselling opportunities for the Nothing Phone 2A in India, such as accessories or services, and how can these be used to increase average revenue per user?\", 'questions_formatted': {'1': 'What are the current market trends for smartphones in India, and how does the Nothing Phone 2A fit into this landscape?', '2': 'What are the unique selling points (USPs) of the Nothing Phone 2A compared to its competitors, and how can these be leveraged to justify a premium price?', '3': 'What are the current prices of similar smartphones from competitors like Apple, Samsung, and Xiaomi in India, and how does the Nothing Phone 2A compare?', '4': 'What are the most common pain points or complaints from customers about existing smartphones in the Indian market, and how does the Nothing Phone 2A address these concerns?', '5': 'What are the key features and specifications of the Nothing Phone 2A that justify a higher price point compared to its competitors?', '6': \"How does the Nothing Phone 2A's advanced camera features and long battery life compare to other smartphones in the Indian market?\", '7': 'What are the recent industry developments and trends in the Indian smartphone market, and how can the Nothing Phone 2A capitalize on these trends?', '8': 'Who are the key influencers or decision-makers in the Indian smartphone market, and how can they be leveraged to promote the Nothing Phone 2A?', '9': 'What are the buyer personas for the Nothing Phone 2A in India, and what are their preferences, behaviors, and expectations when it comes to purchasing a smartphone?', '10': \"How does the Nothing Phone 2A's value-based pricing strategy align with the expectations and behaviors of its target market in India?\", '11': 'What are the potential scarcity of resources or supply chain constraints that could impact the pricing of the Nothing Phone 2A in India?', '12': 'What are the regional pricing variations for smartphones in India, and how can the Nothing Phone 2A be priced competitively across different regions?', '13': \"What are the customer reviews and ratings for the Nothing Phone 2A's competitors in India, and how can these be used to identify areas for differentiation and premium pricing?\", '14': 'What are the financial health and purchasing power of the target market for the Nothing Phone 2A in India, and how can this information be used to inform pricing decisions?', '15': 'What are the legal or regulatory considerations that could impact the pricing strategy for the Nothing Phone 2A in India, such as taxes or import duties?', '16': \"How does the Nothing Phone 2A's warranty and after-sales support compare to its competitors in India, and how can this be used to justify a premium price?\", '17': 'What are the key features and specifications that customers are willing to pay a premium for in a smartphone in India, and how does the Nothing Phone 2A meet these expectations?', '18': 'What are the potential weaknesses or gaps in the competition that the Nothing Phone 2A can exploit to justify a premium price?', '19': \"How does the Nothing Phone 2A's brand reputation and image in India compare to its competitors, and how can this be leveraged to justify a premium price?\", '20': 'What are the potential bundling or upselling opportunities for the Nothing Phone 2A in India, such as accessories or services, and how can these be used to increase average revenue per user?'}}\n",
      "---RESEARCHING---\n",
      "{'product': 'Nothing Phone 2A', 'region': 'India', 'target_market': 'Tech-savvy consumers aged 18-35', 'competitors': 'Apple, Samsung, Xiaomi', 'pricing_strategy': 'Value-based pricing', 'context': 'The product is a new smartphone model with advanced camera features and long battery life.', 'questions_generated': \"1. What are the current market trends for smartphones in India, and how does the Nothing Phone 2A fit into this landscape?\\n2. What are the unique selling points (USPs) of the Nothing Phone 2A compared to its competitors, and how can these be leveraged to justify a premium price?\\n3. What are the current prices of similar smartphones from competitors like Apple, Samsung, and Xiaomi in India, and how does the Nothing Phone 2A compare?\\n4. What are the most common pain points or complaints from customers about existing smartphones in the Indian market, and how does the Nothing Phone 2A address these concerns?\\n5. What are the key features and specifications of the Nothing Phone 2A that justify a higher price point compared to its competitors?\\n6. How does the Nothing Phone 2A's advanced camera features and long battery life compare to other smartphones in the Indian market?\\n7. What are the recent industry developments and trends in the Indian smartphone market, and how can the Nothing Phone 2A capitalize on these trends?\\n8. Who are the key influencers or decision-makers in the Indian smartphone market, and how can they be leveraged to promote the Nothing Phone 2A?\\n9. What are the buyer personas for the Nothing Phone 2A in India, and what are their preferences, behaviors, and expectations when it comes to purchasing a smartphone?\\n10. How does the Nothing Phone 2A's value-based pricing strategy align with the expectations and behaviors of its target market in India?\\n11. What are the potential scarcity of resources or supply chain constraints that could impact the pricing of the Nothing Phone 2A in India?\\n12. What are the regional pricing variations for smartphones in India, and how can the Nothing Phone 2A be priced competitively across different regions?\\n13. What are the customer reviews and ratings for the Nothing Phone 2A's competitors in India, and how can these be used to identify areas for differentiation and premium pricing?\\n14. What are the financial health and purchasing power of the target market for the Nothing Phone 2A in India, and how can this information be used to inform pricing decisions?\\n15. What are the legal or regulatory considerations that could impact the pricing strategy for the Nothing Phone 2A in India, such as taxes or import duties?\\n16. How does the Nothing Phone 2A's warranty and after-sales support compare to its competitors in India, and how can this be used to justify a premium price?\\n17. What are the key features and specifications that customers are willing to pay a premium for in a smartphone in India, and how does the Nothing Phone 2A meet these expectations?\\n18. What are the potential weaknesses or gaps in the competition that the Nothing Phone 2A can exploit to justify a premium price?\\n19. How does the Nothing Phone 2A's brand reputation and image in India compare to its competitors, and how can this be leveraged to justify a premium price?\\n20. What are the potential bundling or upselling opportunities for the Nothing Phone 2A in India, such as accessories or services, and how can these be used to increase average revenue per user?\", 'questions_formatted': {'1': 'What are the current market trends for smartphones in India, and how does the Nothing Phone 2A fit into this landscape?', '2': 'What are the unique selling points (USPs) of the Nothing Phone 2A compared to its competitors, and how can these be leveraged to justify a premium price?', '3': 'What are the current prices of similar smartphones from competitors like Apple, Samsung, and Xiaomi in India, and how does the Nothing Phone 2A compare?', '4': 'What are the most common pain points or complaints from customers about existing smartphones in the Indian market, and how does the Nothing Phone 2A address these concerns?', '5': 'What are the key features and specifications of the Nothing Phone 2A that justify a higher price point compared to its competitors?', '6': \"How does the Nothing Phone 2A's advanced camera features and long battery life compare to other smartphones in the Indian market?\", '7': 'What are the recent industry developments and trends in the Indian smartphone market, and how can the Nothing Phone 2A capitalize on these trends?', '8': 'Who are the key influencers or decision-makers in the Indian smartphone market, and how can they be leveraged to promote the Nothing Phone 2A?', '9': 'What are the buyer personas for the Nothing Phone 2A in India, and what are their preferences, behaviors, and expectations when it comes to purchasing a smartphone?', '10': \"How does the Nothing Phone 2A's value-based pricing strategy align with the expectations and behaviors of its target market in India?\", '11': 'What are the potential scarcity of resources or supply chain constraints that could impact the pricing of the Nothing Phone 2A in India?', '12': 'What are the regional pricing variations for smartphones in India, and how can the Nothing Phone 2A be priced competitively across different regions?', '13': \"What are the customer reviews and ratings for the Nothing Phone 2A's competitors in India, and how can these be used to identify areas for differentiation and premium pricing?\", '14': 'What are the financial health and purchasing power of the target market for the Nothing Phone 2A in India, and how can this information be used to inform pricing decisions?', '15': 'What are the legal or regulatory considerations that could impact the pricing strategy for the Nothing Phone 2A in India, such as taxes or import duties?', '16': \"How does the Nothing Phone 2A's warranty and after-sales support compare to its competitors in India, and how can this be used to justify a premium price?\", '17': 'What are the key features and specifications that customers are willing to pay a premium for in a smartphone in India, and how does the Nothing Phone 2A meet these expectations?', '18': 'What are the potential weaknesses or gaps in the competition that the Nothing Phone 2A can exploit to justify a premium price?', '19': \"How does the Nothing Phone 2A's brand reputation and image in India compare to its competitors, and how can this be leveraged to justify a premium price?\", '20': 'What are the potential bundling or upselling opportunities for the Nothing Phone 2A in India, such as accessories or services, and how can these be used to increase average revenue per user?'}, 'research_result': '---\\n>1 : What are the current market trends for smartphones in India, and how does the Nothing Phone 2A fit into this landscape?\\n\\n**Indian Smartphone Market Overview**\\n\\n*India shipped 69 million smartphones in H1 2024, reflecting a 7.2% YoY growth.*\\n\\n**Market Performance by Quarter:**\\n\\nIn Q1 2024, India maintained a strong performance, reaching 35.3 million units, with channels embracing multiple new offerings due to an improved inventory situation. This resulted in a 15% YoY growth.\\n\\n**Indian Smartphone Market Share Report (H1 2024)**\\n| Aspect | Value |\\n| --- | --- |\\n| Q1 2024 Units Shipped | 35.3 million |\\n| Q1 2024 YoY Growth | 15% |\\n| H1 2024 Units Shipped | 69 million |\\n| H1 2024 YoY Growth | 7.2% |\\n\\n**Market Projections and Challenges**\\n\\n* A 5% growth is projected in 2024, driven by 5G adoption and device upgrades.\\n* Market challenges include cost pressures and extended replacement cycles.\\n\\n**2023 Market Performance**\\n\\n* The Indian smartphone market shipped 148.6 million units in 2023, witnessing a 2% YoY decline.\\n* 5G smartphone shipments captured their highest-ever share of 71% in volume terms.\\n\\n\"Our research suggests that despite the decline in 2023, the Indian smartphone market is poised for growth in 2024, driven by 5G adoption and device upgrades.\"\\n---\\n>2 : What are the unique selling points (USPs) of the Nothing Phone 2A compared to its competitors, and how can these be leveraged to justify a premium price?\\n\\n**Unique Selling Points (USPs) of the Nothing Phone 2A**\\n\\n* *Innovative Features*: Introducing unique features to a broader audience, setting it apart from competitors.\\n* *Customization Options*: Offers masses of customization, allowing users to personalize their experience.\\n* *Design*: A fun, premium-looking design that challenges the notion that low-cost phones can\\'t look good.\\n\\n**Key Features and Specifications**\\n\\n* _Price_: Starting at $350/£319, making it an attractive option for those on a budget.\\n* _Display_: 120 Hz AMOLED screen with thin bezels, providing an excellent visual experience.\\n* _Performance_: MediaTek Dimensity 7200 Pro SoC, suitable for everyday use.\\n\\n**What Sets it Apart**\\n\\nThe Nothing Phone 2a\\'s ability to balance price and features, making it a great value proposition. The phone\\'s premium look and feel, despite its low cost, make it an attractive option for those who want a high-end experience without the hefty price tag.\\n\\n**Leveraging USPs to Justify a Premium Price**\\n\\n* Emphasize the unique features and customization options that set it apart from competitors.\\n* Highlight the phone\\'s premium design and build quality, despite its affordable price.\\n* Focus on the excellent display and performance, demonstrating that the phone can compete with more expensive options.\\n\\nBy emphasizing these key points, the Nothing Phone 2a can be positioned as a premium product that offers excellent value for money, justifying a slightly higher price point than its competitors.\\n---'}\n"
     ]
    }
   ],
   "source": [
    "inputs = {\n",
    "    \"product\": \"Nothing Phone 2A\", \n",
    "    \"region\": \"India\",\n",
    "    \"target_market\": \"Tech-savvy consumers aged 18-35\",\n",
    "    \"competitors\": \"Apple, Samsung, Xiaomi\",\n",
    "    \"pricing_strategy\": \"Value-based pricing\",\n",
    "    \"context\": \"The product is a new smartphone model with advanced camera features and long battery life.\"\n",
    "}\n",
    "\n",
    "for event in graph.stream(inputs, stream_mode=\"values\"):\n",
    "    research = event\n",
    "    print(event)"
   ]
  },
  {
   "cell_type": "code",
   "execution_count": 18,
   "metadata": {},
   "outputs": [
    {
     "data": {
      "text/markdown": [
       "---\n",
       ">1 : What are the current market trends for smartphones in India, and how does the Nothing Phone 2A fit into this landscape?\n",
       "\n",
       "**Indian Smartphone Market Overview**\n",
       "\n",
       "*India shipped 69 million smartphones in H1 2024, reflecting a 7.2% YoY growth.*\n",
       "\n",
       "**Market Performance by Quarter:**\n",
       "\n",
       "In Q1 2024, India maintained a strong performance, reaching 35.3 million units, with channels embracing multiple new offerings due to an improved inventory situation. This resulted in a 15% YoY growth.\n",
       "\n",
       "**Indian Smartphone Market Share Report (H1 2024)**\n",
       "| Aspect | Value |\n",
       "| --- | --- |\n",
       "| Q1 2024 Units Shipped | 35.3 million |\n",
       "| Q1 2024 YoY Growth | 15% |\n",
       "| H1 2024 Units Shipped | 69 million |\n",
       "| H1 2024 YoY Growth | 7.2% |\n",
       "\n",
       "**Market Projections and Challenges**\n",
       "\n",
       "* A 5% growth is projected in 2024, driven by 5G adoption and device upgrades.\n",
       "* Market challenges include cost pressures and extended replacement cycles.\n",
       "\n",
       "**2023 Market Performance**\n",
       "\n",
       "* The Indian smartphone market shipped 148.6 million units in 2023, witnessing a 2% YoY decline.\n",
       "* 5G smartphone shipments captured their highest-ever share of 71% in volume terms.\n",
       "\n",
       "\"Our research suggests that despite the decline in 2023, the Indian smartphone market is poised for growth in 2024, driven by 5G adoption and device upgrades.\"\n",
       "---\n",
       ">2 : What are the unique selling points (USPs) of the Nothing Phone 2A compared to its competitors, and how can these be leveraged to justify a premium price?\n",
       "\n",
       "**Unique Selling Points (USPs) of the Nothing Phone 2A**\n",
       "\n",
       "* *Innovative Features*: Introducing unique features to a broader audience, setting it apart from competitors.\n",
       "* *Customization Options*: Offers masses of customization, allowing users to personalize their experience.\n",
       "* *Design*: A fun, premium-looking design that challenges the notion that low-cost phones can't look good.\n",
       "\n",
       "**Key Features and Specifications**\n",
       "\n",
       "* _Price_: Starting at $350/£319, making it an attractive option for those on a budget.\n",
       "* _Display_: 120 Hz AMOLED screen with thin bezels, providing an excellent visual experience.\n",
       "* _Performance_: MediaTek Dimensity 7200 Pro SoC, suitable for everyday use.\n",
       "\n",
       "**What Sets it Apart**\n",
       "\n",
       "The Nothing Phone 2a's ability to balance price and features, making it a great value proposition. The phone's premium look and feel, despite its low cost, make it an attractive option for those who want a high-end experience without the hefty price tag.\n",
       "\n",
       "**Leveraging USPs to Justify a Premium Price**\n",
       "\n",
       "* Emphasize the unique features and customization options that set it apart from competitors.\n",
       "* Highlight the phone's premium design and build quality, despite its affordable price.\n",
       "* Focus on the excellent display and performance, demonstrating that the phone can compete with more expensive options.\n",
       "\n",
       "By emphasizing these key points, the Nothing Phone 2a can be positioned as a premium product that offers excellent value for money, justifying a slightly higher price point than its competitors.\n",
       "---"
      ],
      "text/plain": [
       "<IPython.core.display.Markdown object>"
      ]
     },
     "metadata": {},
     "output_type": "display_data"
    }
   ],
   "source": [
    "display(Markdown(research[\"research_result\"]))"
   ]
  },
  {
   "cell_type": "code",
   "execution_count": 19,
   "metadata": {},
   "outputs": [
    {
     "name": "stdout",
     "output_type": "stream",
     "text": [
      "---\n",
      ">1 : What are the current market trends for smartphones in India, and how does the Nothing Phone 2A fit into this landscape?\n",
      "\n",
      "**Indian Smartphone Market Overview**\n",
      "\n",
      "*India shipped 69 million smartphones in H1 2024, reflecting a 7.2% YoY growth.*\n",
      "\n",
      "**Market Performance by Quarter:**\n",
      "\n",
      "In Q1 2024, India maintained a strong performance, reaching 35.3 million units, with channels embracing multiple new offerings due to an improved inventory situation. This resulted in a 15% YoY growth.\n",
      "\n",
      "**Indian Smartphone Market Share Report (H1 2024)**\n",
      "| Aspect | Value |\n",
      "| --- | --- |\n",
      "| Q1 2024 Units Shipped | 35.3 million |\n",
      "| Q1 2024 YoY Growth | 15% |\n",
      "| H1 2024 Units Shipped | 69 million |\n",
      "| H1 2024 YoY Growth | 7.2% |\n",
      "\n",
      "**Market Projections and Challenges**\n",
      "\n",
      "* A 5% growth is projected in 2024, driven by 5G adoption and device upgrades.\n",
      "* Market challenges include cost pressures and extended replacement cycles.\n",
      "\n",
      "**2023 Market Performance**\n",
      "\n",
      "* The Indian smartphone market shipped 148.6 million units in 2023, witnessing a 2% YoY decline.\n",
      "* 5G smartphone shipments captured their highest-ever share of 71% in volume terms.\n",
      "\n",
      "\"Our research suggests that despite the decline in 2023, the Indian smartphone market is poised for growth in 2024, driven by 5G adoption and device upgrades.\"\n",
      "---\n",
      ">2 : What are the unique selling points (USPs) of the Nothing Phone 2A compared to its competitors, and how can these be leveraged to justify a premium price?\n",
      "\n",
      "**Unique Selling Points (USPs) of the Nothing Phone 2A**\n",
      "\n",
      "* *Innovative Features*: Introducing unique features to a broader audience, setting it apart from competitors.\n",
      "* *Customization Options*: Offers masses of customization, allowing users to personalize their experience.\n",
      "* *Design*: A fun, premium-looking design that challenges the notion that low-cost phones can't look good.\n",
      "\n",
      "**Key Features and Specifications**\n",
      "\n",
      "* _Price_: Starting at $350/£319, making it an attractive option for those on a budget.\n",
      "* _Display_: 120 Hz AMOLED screen with thin bezels, providing an excellent visual experience.\n",
      "* _Performance_: MediaTek Dimensity 7200 Pro SoC, suitable for everyday use.\n",
      "\n",
      "**What Sets it Apart**\n",
      "\n",
      "The Nothing Phone 2a's ability to balance price and features, making it a great value proposition. The phone's premium look and feel, despite its low cost, make it an attractive option for those who want a high-end experience without the hefty price tag.\n",
      "\n",
      "**Leveraging USPs to Justify a Premium Price**\n",
      "\n",
      "* Emphasize the unique features and customization options that set it apart from competitors.\n",
      "* Highlight the phone's premium design and build quality, despite its affordable price.\n",
      "* Focus on the excellent display and performance, demonstrating that the phone can compete with more expensive options.\n",
      "\n",
      "By emphasizing these key points, the Nothing Phone 2a can be positioned as a premium product that offers excellent value for money, justifying a slightly higher price point than its competitors.\n",
      "---\n"
     ]
    }
   ],
   "source": [
    "print(research[\"research_result\"])"
   ]
  },
  {
   "cell_type": "code",
   "execution_count": null,
   "metadata": {},
   "outputs": [],
   "source": []
  },
  {
   "cell_type": "code",
   "execution_count": null,
   "metadata": {},
   "outputs": [],
   "source": []
  }
 ],
 "metadata": {
  "kernelspec": {
   "display_name": ".BargainBot",
   "language": "python",
   "name": "python3"
  },
  "language_info": {
   "codemirror_mode": {
    "name": "ipython",
    "version": 3
   },
   "file_extension": ".py",
   "mimetype": "text/x-python",
   "name": "python",
   "nbconvert_exporter": "python",
   "pygments_lexer": "ipython3",
   "version": "3.12.3"
  }
 },
 "nbformat": 4,
 "nbformat_minor": 2
}
